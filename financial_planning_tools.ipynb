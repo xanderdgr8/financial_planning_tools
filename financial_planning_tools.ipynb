{
 "cells": [
  {
   "cell_type": "markdown",
   "metadata": {},
   "source": [
    "# Financial Planning with APIs and Simulations\n",
    "\n",
    "In this Challenge, you’ll create two financial analysis tools by using a single Jupyter notebook:\n",
    "\n",
    "Part 1: A financial planner for emergencies. The members will be able to use this tool to visualize their current savings. The members can then determine if they have enough reserves for an emergency fund.\n",
    "\n",
    "Part 2: A financial planner for retirement. This tool will forecast the performance of their retirement portfolio in 30 years. To do this, the tool will make an Alpaca API call via the Alpaca SDK to get historical price data for use in Monte Carlo simulations.\n",
    "\n",
    "You’ll use the information from the Monte Carlo simulation to answer questions about the portfolio in your Jupyter notebook.\n",
    "\n"
   ]
  },
  {
   "cell_type": "code",
   "execution_count": 1,
   "metadata": {},
   "outputs": [],
   "source": [
    "# Importing the required libraries and dependencies\n",
    "import os\n",
    "import requests\n",
    "import json\n",
    "import pandas as pd\n",
    "from dotenv import load_dotenv\n",
    "import alpaca_trade_api as tradeapi\n",
    "from MCForecastTools import MCSimulation\n",
    "\n",
    "%matplotlib inline"
   ]
  },
  {
   "cell_type": "code",
   "execution_count": 2,
   "metadata": {},
   "outputs": [
    {
     "data": {
      "text/plain": [
       "True"
      ]
     },
     "execution_count": 2,
     "metadata": {},
     "output_type": "execute_result"
    }
   ],
   "source": [
    "# Loading the environment variables from the .env file\n",
    "# by calling the load_dotenv function\n",
    "load_dotenv()"
   ]
  },
  {
   "cell_type": "markdown",
   "metadata": {},
   "source": [
    "## Part 1: Create a Financial Planner for Emergencies"
   ]
  },
  {
   "cell_type": "markdown",
   "metadata": {},
   "source": [
    "### Evaluate the Cryptocurrency Wallet by Using the Requests Library\n",
    "\n",
    "In this section, you’ll determine the current value of a member’s cryptocurrency wallet. You’ll collect the current prices for the Bitcoin and Ethereum cryptocurrencies by using the Python Requests library. For the prototype, you’ll assume that the member holds the 1.2 Bitcoins (BTC) and 5.3 Ethereum coins (ETH). To do all this, complete the following steps:\n",
    "\n",
    "1. Create a variable named `monthly_income`, and set its value to `12000`.\n",
    "\n",
    "2. Use the Requests library to get the current price (in US dollars) of Bitcoin (BTC) and Ethereum (ETH) by using the API endpoints that the starter code supplies.\n",
    "\n",
    "3. Navigate the JSON response object to access the current price of each coin, and store each in a variable.\n",
    "\n",
    "    > **Hint** Note the specific identifier for each cryptocurrency in the API JSON response. The Bitcoin identifier is `1`, and the Ethereum identifier is `1027`.\n",
    "\n",
    "4. Calculate the value, in US dollars, of the current amount of each cryptocurrency and of the entire cryptocurrency wallet.\n",
    "\n"
   ]
  },
  {
   "cell_type": "code",
   "execution_count": 3,
   "metadata": {},
   "outputs": [],
   "source": [
    "# Setting the current number of coins for each cryptocurrency asset held in the portfolio.\n",
    "btc_coins = 1.2\n",
    "eth_coins = 5.3"
   ]
  },
  {
   "cell_type": "markdown",
   "metadata": {},
   "source": [
    "#### Step 1: Create a variable named `monthly_income`, and set its value to `12000`."
   ]
  },
  {
   "cell_type": "code",
   "execution_count": 4,
   "metadata": {},
   "outputs": [],
   "source": [
    "# Setting the monthly amount for the member's household income\n",
    "monthly_income = 12000"
   ]
  },
  {
   "cell_type": "markdown",
   "metadata": {
    "tags": []
   },
   "source": [
    "#### Review the endpoint URLs for the API calls to Free Crypto API in order to get the current pricing information for both BTC and ETH."
   ]
  },
  {
   "cell_type": "code",
   "execution_count": 5,
   "metadata": {},
   "outputs": [],
   "source": [
    "# The Free Crypto API Call endpoint URLs for the held cryptocurrency assets\n",
    "btc_url = \"https://api.alternative.me/v2/ticker/Bitcoin/?convert=USD\"\n",
    "eth_url = \"https://api.alternative.me/v2/ticker/Ethereum/?convert=USD\""
   ]
  },
  {
   "cell_type": "markdown",
   "metadata": {},
   "source": [
    "#### Step 2. Use the Requests library to get the current price (in US dollars) of Bitcoin (BTC) and Ethereum (ETH) by using the API endpoints that the starter code supplied."
   ]
  },
  {
   "cell_type": "code",
   "execution_count": 6,
   "metadata": {},
   "outputs": [
    {
     "name": "stdout",
     "output_type": "stream",
     "text": [
      "{\n",
      "    \"data\": {\n",
      "        \"1\": {\n",
      "            \"circulating_supply\": 19193243,\n",
      "            \"id\": 1,\n",
      "            \"last_updated\": 1667114048,\n",
      "            \"max_supply\": 21000000,\n",
      "            \"name\": \"Bitcoin\",\n",
      "            \"quotes\": {\n",
      "                \"USD\": {\n",
      "                    \"market_cap\": 401056303714,\n",
      "                    \"percent_change_1h\": 0.0599386107442018,\n",
      "                    \"percent_change_24h\": 1.05292266350426,\n",
      "                    \"percent_change_7d\": 8.89109962763925,\n",
      "                    \"percentage_change_1h\": 0.0599386107442018,\n",
      "                    \"percentage_change_24h\": 1.05292266350426,\n",
      "                    \"percentage_change_7d\": 8.89109962763925,\n",
      "                    \"price\": 20911.0,\n",
      "                    \"volume_24h\": 32395785538\n",
      "                }\n",
      "            },\n",
      "            \"rank\": 1,\n",
      "            \"symbol\": \"BTC\",\n",
      "            \"total_supply\": 19193243,\n",
      "            \"website_slug\": \"bitcoin\"\n",
      "        }\n",
      "    },\n",
      "    \"metadata\": {\n",
      "        \"error\": null,\n",
      "        \"num_cryptocurrencies\": 3116,\n",
      "        \"timestamp\": 1667114048\n",
      "    }\n",
      "}\n"
     ]
    }
   ],
   "source": [
    "# Using the Python requests library, make an API call to access the current price of BTC\n",
    "btc_response = requests.get(btc_url).json()\n",
    "\n",
    "# Using the json.dumps function to review the response data from the API call\n",
    "# Using the indent and sort_keys parameters to make the response object readable\n",
    "print(json.dumps(btc_response, indent=4, sort_keys=True))"
   ]
  },
  {
   "cell_type": "code",
   "execution_count": 7,
   "metadata": {},
   "outputs": [
    {
     "name": "stdout",
     "output_type": "stream",
     "text": [
      "{\n",
      "    \"data\": {\n",
      "        \"1027\": {\n",
      "            \"circulating_supply\": 120522144,\n",
      "            \"id\": 1027,\n",
      "            \"last_updated\": 1667114070,\n",
      "            \"max_supply\": 120522144,\n",
      "            \"name\": \"Ethereum\",\n",
      "            \"quotes\": {\n",
      "                \"USD\": {\n",
      "                    \"market_cap\": 197086497192,\n",
      "                    \"percent_change_1h\": 0.129387577083947,\n",
      "                    \"percent_change_24h\": 3.30487994821728,\n",
      "                    \"percent_change_7d\": 24.6093718104105,\n",
      "                    \"percentage_change_1h\": 0.129387577083947,\n",
      "                    \"percentage_change_24h\": 3.30487994821728,\n",
      "                    \"percentage_change_7d\": 24.6093718104105,\n",
      "                    \"price\": 1637.08,\n",
      "                    \"volume_24h\": 15831075693\n",
      "                }\n",
      "            },\n",
      "            \"rank\": 2,\n",
      "            \"symbol\": \"ETH\",\n",
      "            \"total_supply\": 120522144,\n",
      "            \"website_slug\": \"ethereum\"\n",
      "        }\n",
      "    },\n",
      "    \"metadata\": {\n",
      "        \"error\": null,\n",
      "        \"num_cryptocurrencies\": 3116,\n",
      "        \"timestamp\": 1667114070\n",
      "    }\n",
      "}\n"
     ]
    }
   ],
   "source": [
    "# Using the Python requests library, make an API call to access the current price ETH\n",
    "eth_response = requests.get(eth_url).json()\n",
    "\n",
    "# Using the json.dumps function to review the response data from the API call\n",
    "# Using the indent and sort_keys parameters to make the response object readable\n",
    "print(json.dumps(eth_response, indent=4, sort_keys=True))"
   ]
  },
  {
   "cell_type": "markdown",
   "metadata": {},
   "source": [
    "#### Step 3: Navigate the JSON response object to access the current price of each coin, and store each in a variable."
   ]
  },
  {
   "cell_type": "code",
   "execution_count": 8,
   "metadata": {},
   "outputs": [
    {
     "name": "stdout",
     "output_type": "stream",
     "text": [
      "The price for Bitcoin is $20911.00\n"
     ]
    }
   ],
   "source": [
    "# Navigating the BTC response object to access the current price of BTC\n",
    "btc_price = btc_response['data']['1']['quotes']['USD']['price']\n",
    "\n",
    "# Printing the current price of BTC\n",
    "print(f\"The price for Bitcoin is ${btc_price:.2f}\")"
   ]
  },
  {
   "cell_type": "code",
   "execution_count": 9,
   "metadata": {},
   "outputs": [
    {
     "name": "stdout",
     "output_type": "stream",
     "text": [
      "The price for Ethereum is $1637.08\n"
     ]
    }
   ],
   "source": [
    "# Navigating the BTC response object to access the current price of ETH\n",
    "eth_price = eth_response['data']['1027']['quotes']['USD']['price']\n",
    "\n",
    "# Printing the current price of ETH\n",
    "print(f\"The price for Ethereum is ${eth_price:.2f}\")"
   ]
  },
  {
   "cell_type": "markdown",
   "metadata": {},
   "source": [
    "### Step 4: Calculate the value, in US dollars, of the current amount of each cryptocurrency and of the entire cryptocurrency wallet."
   ]
  },
  {
   "cell_type": "code",
   "execution_count": 10,
   "metadata": {},
   "outputs": [
    {
     "name": "stdout",
     "output_type": "stream",
     "text": [
      "The value of your BTC holding is $25093.20\n"
     ]
    }
   ],
   "source": [
    "# Computing the current value of the BTC holding \n",
    "btc_value = btc_price * btc_coins\n",
    "\n",
    "# Printing current value of your holding in BTC\n",
    "print(f\"The value of your BTC holding is ${btc_value:.2f}\")"
   ]
  },
  {
   "cell_type": "code",
   "execution_count": 11,
   "metadata": {},
   "outputs": [
    {
     "name": "stdout",
     "output_type": "stream",
     "text": [
      "The value of your ETH holding is $8676.52\n"
     ]
    }
   ],
   "source": [
    "# Computing the current value of the ETH holding \n",
    "eth_value = eth_price * eth_coins\n",
    "\n",
    "# Printing current value of your holding in ETH\n",
    "print(f\"The value of your ETH holding is ${eth_value:.2f}\")"
   ]
  },
  {
   "cell_type": "code",
   "execution_count": 12,
   "metadata": {},
   "outputs": [
    {
     "name": "stdout",
     "output_type": "stream",
     "text": [
      "The current cryptocurrency wallet balance is $33769.72\n"
     ]
    }
   ],
   "source": [
    "# Computing the total value of the cryptocurrency wallet\n",
    "# Adding the value of the BTC holding to the value of the ETH holding\n",
    "total_crypto_wallet = btc_value + eth_value\n",
    "\n",
    "# Printing the current cryptocurrency wallet balance\n",
    "print(f\"The current cryptocurrency wallet balance is ${total_crypto_wallet:.2f}\")"
   ]
  },
  {
   "cell_type": "markdown",
   "metadata": {},
   "source": [
    "### Evaluate the Stock and Bond Holdings by Using the Alpaca SDK\n",
    "\n",
    "In this section, you’ll determine the current value of a member’s stock and bond holdings. You’ll make an API call to Alpaca via the Alpaca SDK to get the current closing prices of the SPDR S&P 500 ETF Trust (ticker: SPY) and of the iShares Core US Aggregate Bond ETF (ticker: AGG). For the prototype, assume that the member holds 110 shares of SPY, which represents the stock portion of their portfolio, and 200 shares of AGG, which represents the bond portion. To do all this, complete the following steps:\n",
    "\n",
    "1. In the `Starter_Code` folder, create an environment file (`.env`) to store the values of your Alpaca API key and Alpaca secret key.\n",
    "\n",
    "2. Set the variables for the Alpaca API and secret keys. Using the Alpaca SDK, create the Alpaca `tradeapi.REST` object. In this object, include the parameters for the Alpaca API key, the secret key, and the version number.\n",
    "\n",
    "3. Set the following parameters for the Alpaca API call:\n",
    "\n",
    "    - `tickers`: Use the tickers for the member’s stock and bond holdings.\n",
    "\n",
    "    - `timeframe`: Use a time frame of one day.\n",
    "\n",
    "    - `start_date` and `end_date`: Use the same date for these parameters, and format them with the date of the previous weekday (or `2020-08-07`). This is because you want the one closing price for the most-recent trading day.\n",
    "\n",
    "4. Get the current closing prices for `SPY` and `AGG` by using the Alpaca `get_bars` function. Format the response as a Pandas DataFrame by including the `df` property at the end of the `get_bars` function.\n",
    "\n",
    "5. Navigating the Alpaca response DataFrame, select the `SPY` and `AGG` closing prices, and store them as variables.\n",
    "\n",
    "6. Calculate the value, in US dollars, of the current amount of shares in each of the stock and bond portions of the portfolio, and print the results.\n"
   ]
  },
  {
   "cell_type": "markdown",
   "metadata": {},
   "source": [
    "#### Review the total number of shares held in both (SPY) and (AGG)."
   ]
  },
  {
   "cell_type": "code",
   "execution_count": 13,
   "metadata": {},
   "outputs": [],
   "source": [
    "# Setting the current amount of shares held in both the stock (SPY) and bond (AGG) portion of the portfolio.\n",
    "spy_shares = 110\n",
    "agg_shares = 200\n"
   ]
  },
  {
   "cell_type": "markdown",
   "metadata": {},
   "source": [
    "#### Step 1: In the `Starter_Code` folder, create an environment file (`.env`) to store the values of your Alpaca API key and Alpaca secret key."
   ]
  },
  {
   "cell_type": "markdown",
   "metadata": {},
   "source": [
    "#### Step 2: Set the variables for the Alpaca API and secret keys. Using the Alpaca SDK, create the Alpaca `tradeapi.REST` object. In this object, include the parameters for the Alpaca API key, the secret key, and the version number."
   ]
  },
  {
   "cell_type": "code",
   "execution_count": 14,
   "metadata": {},
   "outputs": [],
   "source": [
    "# Setting the variables for the Alpaca API and secret keys\n",
    "alpaca_api_key = os.getenv(\"ALPACA_API_KEY\")\n",
    "alpaca_secret_key = os.getenv(\"ALPACA_SECRET_KEY\")\n",
    "\n",
    "# Creating the Alpaca tradeapi.REST object\n",
    "alpaca = tradeapi.REST(\n",
    "    alpaca_api_key,\n",
    "    alpaca_secret_key,\n",
    "    api_version=\"v2\")"
   ]
  },
  {
   "cell_type": "markdown",
   "metadata": {
    "tags": []
   },
   "source": [
    "#### Step 3: Set the following parameters for the Alpaca API call:\n",
    "\n",
    "- `tickers`: Use the tickers for the member’s stock and bond holdings.\n",
    "\n",
    "- `timeframe`: Use a time frame of one day.\n",
    "\n",
    "- `start_date` and `end_date`: Use the same date for these parameters, and format them with the date of the previous weekday (or `2020-08-07`). This is because you want the one closing price for the most-recent trading day.\n"
   ]
  },
  {
   "cell_type": "code",
   "execution_count": 15,
   "metadata": {},
   "outputs": [],
   "source": [
    "# Setting the tickers for both the bond and stock portion of the portfolio\n",
    "tickers = [\"SPY\", \"AGG\"]\n",
    "\n",
    "# Setting the timeframe to 1Day\n",
    "timeframe = \"1Day\"\n",
    "\n",
    "# Formatting current date as ISO format\n",
    "# Setting both the start and end date at the date of the prior weekday \n",
    "# giving the closing price of the previous trading day\n",
    "start_date = pd.Timestamp(\"2022-10-28\", tz=\"America/New_York\").isoformat()\n",
    "end_date = pd.Timestamp(\"2022-10-28\", tz=\"America/New_York\").isoformat()"
   ]
  },
  {
   "cell_type": "markdown",
   "metadata": {},
   "source": [
    "#### Step 4: Get the current closing prices for `SPY` and `AGG` by using the Alpaca `get_bars` function. Format the response as a Pandas DataFrame by including the `df` property at the end of the `get_bars` function."
   ]
  },
  {
   "cell_type": "code",
   "execution_count": 17,
   "metadata": {},
   "outputs": [
    {
     "data": {
      "text/html": [
       "<div>\n",
       "<style scoped>\n",
       "    .dataframe tbody tr th:only-of-type {\n",
       "        vertical-align: middle;\n",
       "    }\n",
       "\n",
       "    .dataframe tbody tr th {\n",
       "        vertical-align: top;\n",
       "    }\n",
       "\n",
       "    .dataframe thead tr th {\n",
       "        text-align: left;\n",
       "    }\n",
       "\n",
       "    .dataframe thead tr:last-of-type th {\n",
       "        text-align: right;\n",
       "    }\n",
       "</style>\n",
       "<table border=\"1\" class=\"dataframe\">\n",
       "  <thead>\n",
       "    <tr>\n",
       "      <th></th>\n",
       "      <th colspan=\"7\" halign=\"left\">SPY</th>\n",
       "      <th colspan=\"7\" halign=\"left\">AGG</th>\n",
       "    </tr>\n",
       "    <tr>\n",
       "      <th></th>\n",
       "      <th>open</th>\n",
       "      <th>high</th>\n",
       "      <th>low</th>\n",
       "      <th>close</th>\n",
       "      <th>volume</th>\n",
       "      <th>trade_count</th>\n",
       "      <th>vwap</th>\n",
       "      <th>open</th>\n",
       "      <th>high</th>\n",
       "      <th>low</th>\n",
       "      <th>close</th>\n",
       "      <th>volume</th>\n",
       "      <th>trade_count</th>\n",
       "      <th>vwap</th>\n",
       "    </tr>\n",
       "    <tr>\n",
       "      <th>timestamp</th>\n",
       "      <th></th>\n",
       "      <th></th>\n",
       "      <th></th>\n",
       "      <th></th>\n",
       "      <th></th>\n",
       "      <th></th>\n",
       "      <th></th>\n",
       "      <th></th>\n",
       "      <th></th>\n",
       "      <th></th>\n",
       "      <th></th>\n",
       "      <th></th>\n",
       "      <th></th>\n",
       "      <th></th>\n",
       "    </tr>\n",
       "  </thead>\n",
       "  <tbody>\n",
       "    <tr>\n",
       "      <th>2022-10-28 04:00:00+00:00</th>\n",
       "      <td>379.87</td>\n",
       "      <td>389.52</td>\n",
       "      <td>379.68</td>\n",
       "      <td>389.02</td>\n",
       "      <td>100160252</td>\n",
       "      <td>597379</td>\n",
       "      <td>385.648651</td>\n",
       "      <td>95.01</td>\n",
       "      <td>95.46</td>\n",
       "      <td>94.98</td>\n",
       "      <td>95.22</td>\n",
       "      <td>6224403</td>\n",
       "      <td>25972</td>\n",
       "      <td>95.234097</td>\n",
       "    </tr>\n",
       "  </tbody>\n",
       "</table>\n",
       "</div>"
      ],
      "text/plain": [
       "                              SPY                                     \\\n",
       "                             open    high     low   close     volume   \n",
       "timestamp                                                              \n",
       "2022-10-28 04:00:00+00:00  379.87  389.52  379.68  389.02  100160252   \n",
       "\n",
       "                                                     AGG                       \\\n",
       "                          trade_count        vwap   open   high    low  close   \n",
       "timestamp                                                                       \n",
       "2022-10-28 04:00:00+00:00      597379  385.648651  95.01  95.46  94.98  95.22   \n",
       "\n",
       "                                                           \n",
       "                            volume trade_count       vwap  \n",
       "timestamp                                                  \n",
       "2022-10-28 04:00:00+00:00  6224403       25972  95.234097  "
      ]
     },
     "execution_count": 17,
     "metadata": {},
     "output_type": "execute_result"
    }
   ],
   "source": [
    "# Using the Alpaca get_bars function to get current closing prices the portfolio\n",
    "# Setting the `df` property after the function to format the response object as a DataFrame\n",
    "prices_df = alpaca.get_bars(\n",
    "    tickers,\n",
    "    timeframe,\n",
    "    start = start_date,\n",
    "    end = end_date\n",
    ").df\n",
    "\n",
    "# Reorganizing the DataFrame\n",
    "# Separating ticker data\n",
    "SPY = prices_df[prices_df['symbol']=='SPY'].drop('symbol', axis=1)\n",
    "AGG = prices_df[prices_df['symbol']=='AGG'].drop('symbol', axis=1)\n",
    "# Concatenating the ticker DataFrames\n",
    "prices_df = pd.concat([SPY,AGG],axis=1, keys=['SPY','AGG'])\n",
    "# Reviewing the first 5 rows of the Alpaca DataFrame\n",
    "prices_df.head()"
   ]
  },
  {
   "cell_type": "markdown",
   "metadata": {
    "tags": []
   },
   "source": [
    "#### Step 5: Navigating the Alpaca response DataFrame, select the `SPY` and `AGG` closing prices, and store them as variables."
   ]
  },
  {
   "cell_type": "code",
   "execution_count": 18,
   "metadata": {},
   "outputs": [
    {
     "data": {
      "text/plain": [
       "95.22"
      ]
     },
     "execution_count": 18,
     "metadata": {},
     "output_type": "execute_result"
    }
   ],
   "source": [
    "# Accessing the closing price for AGG from the Alpaca DataFrame\n",
    "# Converting the value to a floating point number\n",
    "agg_close_price = prices_df[\"AGG\"][\"close\"]\n",
    "agg_close_price = agg_close_price.astype(\"float\") \n",
    "\n",
    "# Printing the AGG closing price\n",
    "agg_close_price[0]"
   ]
  },
  {
   "cell_type": "code",
   "execution_count": 19,
   "metadata": {},
   "outputs": [
    {
     "data": {
      "text/plain": [
       "389.02"
      ]
     },
     "execution_count": 19,
     "metadata": {},
     "output_type": "execute_result"
    }
   ],
   "source": [
    "# Accessing the closing price for SPY from the Alpaca DataFrame\n",
    "# Converting the value to a floating point number\n",
    "spy_close_price = prices_df[\"SPY\"][\"close\"]\n",
    "\n",
    "# Printing the SPY closing price\n",
    "spy_close_price[0]"
   ]
  },
  {
   "cell_type": "markdown",
   "metadata": {},
   "source": [
    "#### Step 6: Calculate the value, in US dollars, of the current amount of shares in each of the stock and bond portions of the portfolio, and print the results."
   ]
  },
  {
   "cell_type": "code",
   "execution_count": 20,
   "metadata": {},
   "outputs": [
    {
     "data": {
      "text/plain": [
       "19044.0"
      ]
     },
     "execution_count": 20,
     "metadata": {},
     "output_type": "execute_result"
    }
   ],
   "source": [
    "# Calculating the current value of the bond portion of the portfolio\n",
    "agg_value = agg_shares * agg_close_price\n",
    "\n",
    "# Printing the current value of the bond portfolio\n",
    "agg_value[0]"
   ]
  },
  {
   "cell_type": "code",
   "execution_count": 22,
   "metadata": {},
   "outputs": [
    {
     "data": {
      "text/plain": [
       "42792.2"
      ]
     },
     "execution_count": 22,
     "metadata": {},
     "output_type": "execute_result"
    }
   ],
   "source": [
    "# Calculating the current value of the stock portion of the portfolio\n",
    "spy_value = spy_shares * spy_close_price\n",
    "\n",
    "# Printing the current value of the stock portfolio\n",
    "spy_value[0]"
   ]
  },
  {
   "cell_type": "code",
   "execution_count": 23,
   "metadata": {},
   "outputs": [
    {
     "data": {
      "text/plain": [
       "61836.2"
      ]
     },
     "execution_count": 23,
     "metadata": {},
     "output_type": "execute_result"
    }
   ],
   "source": [
    "# Calculating the total value of the stock and bond portion of the portfolio\n",
    "total_stocks_bonds = agg_value[0] + spy_value[0]\n",
    "\n",
    "# Printing the current balance of the stock and bond portion of the portfolio\n",
    "total_stocks_bonds"
   ]
  },
  {
   "cell_type": "code",
   "execution_count": 24,
   "metadata": {},
   "outputs": [
    {
     "data": {
      "text/plain": [
       "33769.724"
      ]
     },
     "execution_count": 24,
     "metadata": {},
     "output_type": "execute_result"
    }
   ],
   "source": [
    "# Calculating the total value of the member's entire savings portfolio\n",
    "# Adding the value of the cryptocurrency wallet to the value of the total stocks and bonds\n",
    "total_portfolio = total_stocks_bonds + total_crypto_wallet\n",
    "total_crypto_wallet"
   ]
  },
  {
   "cell_type": "markdown",
   "metadata": {
    "tags": []
   },
   "source": [
    "### Evaluate the Emergency Fund\n",
    "\n",
    "In this section, you’ll use the valuations for the cryptocurrency wallet and for the stock and bond portions of the portfolio to determine if the credit union member has enough savings to build an emergency fund into their financial plan. To do this, complete the following steps:\n",
    "\n",
    "1. Create a Python list named `savings_data` that has two elements. The first element contains the total value of the cryptocurrency wallet. The second element contains the total value of the stock and bond portions of the portfolio.\n",
    "\n",
    "2. Use the `savings_data` list to create a Pandas DataFrame named `savings_df`, and then display this DataFrame. The function to create the DataFrame should take the following three parameters:\n",
    "\n",
    "    - `savings_data`: Use the list that you just created.\n",
    "\n",
    "    - `columns`: Set this parameter equal to a Python list with a single value called `amount`.\n",
    "\n",
    "    - `index`: Set this parameter equal to a Python list with the values of `crypto` and `stock/bond`.\n",
    "\n",
    "3. Use the `savings_df` DataFrame to plot a pie chart that visualizes the composition of the member’s portfolio. The y-axis of the pie chart uses `amount`. Be sure to add a title.\n",
    "\n",
    "4. Using Python, determine if the current portfolio has enough to create an emergency fund as part of the member’s financial plan. Ideally, an emergency fund should equal to three times the member’s monthly income. To do this, implement the following steps:\n",
    "\n",
    "    1. Create a variable named `emergency_fund_value`, and set it equal to three times the value of the member’s `monthly_income` of $12000. (You set this earlier in Part 1).\n",
    "\n",
    "    2. Create a series of three if statements to determine if the member’s total portfolio is large enough to fund the emergency portfolio:\n",
    "\n",
    "        1. If the total portfolio value is greater than the emergency fund value, display a message congratulating the member for having enough money in this fund.\n",
    "\n",
    "        2. Else if the total portfolio value is equal to the emergency fund value, display a message congratulating the member on reaching this important financial goal.\n",
    "\n",
    "        3. Else the total portfolio is less than the emergency fund value, so display a message showing how many dollars away the member is from reaching the goal. (Subtract the total portfolio value from the emergency fund value.)\n"
   ]
  },
  {
   "cell_type": "markdown",
   "metadata": {},
   "source": [
    "#### Step 1: Create a Python list named `savings_data` that has two elements. The first element contains the total value of the cryptocurrency wallet. The second element contains the total value of the stock and bond portions of the portfolio."
   ]
  },
  {
   "cell_type": "code",
   "execution_count": 25,
   "metadata": {},
   "outputs": [
    {
     "data": {
      "text/plain": [
       "[33769.724, 61836.2]"
      ]
     },
     "execution_count": 25,
     "metadata": {},
     "output_type": "execute_result"
    }
   ],
   "source": [
    "# Consolidating financial assets data into a Python list\n",
    "savings_data = [total_crypto_wallet,total_stocks_bonds]\n",
    "\n",
    "# Reviewing the Python list savings_data\n",
    "savings_data"
   ]
  },
  {
   "cell_type": "markdown",
   "metadata": {},
   "source": [
    "#### Step 2: Use the `savings_data` list to create a Pandas DataFrame named `savings_df`, and then display this DataFrame. The function to create the DataFrame should take the following three parameters:\n",
    "\n",
    "- `savings_data`: Use the list that you just created.\n",
    "\n",
    "- `columns`: Set this parameter equal to a Python list with a single value called `amount`.\n",
    "\n",
    "- `index`: Set this parameter equal to a Python list with the values of `crypto` and `stock/bond`.\n"
   ]
  },
  {
   "cell_type": "code",
   "execution_count": 26,
   "metadata": {},
   "outputs": [
    {
     "data": {
      "text/html": [
       "<div>\n",
       "<style scoped>\n",
       "    .dataframe tbody tr th:only-of-type {\n",
       "        vertical-align: middle;\n",
       "    }\n",
       "\n",
       "    .dataframe tbody tr th {\n",
       "        vertical-align: top;\n",
       "    }\n",
       "\n",
       "    .dataframe thead th {\n",
       "        text-align: right;\n",
       "    }\n",
       "</style>\n",
       "<table border=\"1\" class=\"dataframe\">\n",
       "  <thead>\n",
       "    <tr style=\"text-align: right;\">\n",
       "      <th></th>\n",
       "      <th>amount</th>\n",
       "    </tr>\n",
       "  </thead>\n",
       "  <tbody>\n",
       "    <tr>\n",
       "      <th>crypto</th>\n",
       "      <td>33769.724</td>\n",
       "    </tr>\n",
       "    <tr>\n",
       "      <th>stock/bond</th>\n",
       "      <td>61836.200</td>\n",
       "    </tr>\n",
       "  </tbody>\n",
       "</table>\n",
       "</div>"
      ],
      "text/plain": [
       "               amount\n",
       "crypto      33769.724\n",
       "stock/bond  61836.200"
      ]
     },
     "execution_count": 26,
     "metadata": {},
     "output_type": "execute_result"
    }
   ],
   "source": [
    "# Creating a Pandas DataFrame called savings_df \n",
    "savings_df = pd.DataFrame(savings_data,\n",
    "                        columns=['amount'],\n",
    "                        index=['crypto','stock/bond'])\n",
    "\n",
    "# Displaying the savings_df DataFrame\n",
    "savings_df"
   ]
  },
  {
   "cell_type": "markdown",
   "metadata": {},
   "source": [
    "#### Step 3: Use the `savings_df` DataFrame to plot a pie chart that visualizes the composition of the member’s portfolio. The y-axis of the pie chart uses `amount`. Be sure to add a title."
   ]
  },
  {
   "cell_type": "code",
   "execution_count": 27,
   "metadata": {},
   "outputs": [
    {
     "data": {
      "text/plain": [
       "array([<AxesSubplot:ylabel='amount'>], dtype=object)"
      ]
     },
     "execution_count": 27,
     "metadata": {},
     "output_type": "execute_result"
    },
    {
     "data": {
      "image/png": "[encoded data removed]",
      "text/plain": [
       "<Figure size 1100x600 with 1 Axes>"
      ]
     },
     "metadata": {},
     "output_type": "display_data"
    }
   ],
   "source": [
    "# Plotting the total value of the member's portfolio (crypto and stock/bond) in a pie chart\n",
    "savings_df.plot.pie(subplots=True, figsize=(11,6))"
   ]
  },
  {
   "cell_type": "markdown",
   "metadata": {},
   "source": [
    "#### Step 4: Using Python, determine if the current portfolio has enough to create an emergency fund as part of the member’s financial plan. Ideally, an emergency fund should equal to three times the member’s monthly income. To do this, implement the following steps:\n",
    "\n",
    "Step 1. Create a variable named `emergency_fund_value`, and set it equal to three times the value of the member’s `monthly_income` of 12000. (You set this earlier in Part 1).\n",
    "\n",
    "Step 2. Create a series of three if statements to determine if the member’s total portfolio is large enough to fund the emergency portfolio:\n",
    "\n",
    "* If the total portfolio value is greater than the emergency fund value, display a message congratulating the member for having enough money in this fund.\n",
    "\n",
    "* Else if the total portfolio value is equal to the emergency fund value, display a message congratulating the member on reaching this important financial goal.\n",
    "\n",
    "* Else the total portfolio is less than the emergency fund value, so display a message showing how many dollars away the member is from reaching the goal. (Subtract the total portfolio value from the emergency fund value.)\n"
   ]
  },
  {
   "cell_type": "markdown",
   "metadata": {},
   "source": [
    "##### Step 4-1: Create a variable named `emergency_fund_value`, and set it equal to three times the value of the member’s `monthly_income` of 12000. (You set this earlier in Part 1)."
   ]
  },
  {
   "cell_type": "code",
   "execution_count": 28,
   "metadata": {},
   "outputs": [
    {
     "data": {
      "text/plain": [
       "36000"
      ]
     },
     "execution_count": 28,
     "metadata": {},
     "output_type": "execute_result"
    }
   ],
   "source": [
    "# Creating a variable named emergency_fund_value\n",
    "emergency_fund_value = 12000 * 3\n",
    "# Printing emergency_fund_value\n",
    "emergency_fund_value"
   ]
  },
  {
   "cell_type": "markdown",
   "metadata": {},
   "source": [
    "##### Step 4-2: Create a series of three if statements to determine if the member’s total portfolio is large enough to fund the emergency portfolio:\n",
    "\n",
    "* If the total portfolio value is greater than the emergency fund value, display a message congratulating the member for having enough money in this fund.\n",
    "\n",
    "* Else if the total portfolio value is equal to the emergency fund value, display a message congratulating the member on reaching this important financial goal.\n",
    "\n",
    "* Else the total portfolio is less than the emergency fund value, so display a message showing how many dollars away the member is from reaching the goal. (Subtract the total portfolio value from the emergency fund value.)"
   ]
  },
  {
   "cell_type": "code",
   "execution_count": 29,
   "metadata": {},
   "outputs": [
    {
     "name": "stdout",
     "output_type": "stream",
     "text": [
      "Congratulation! You have enough money in the fund.\n"
     ]
    }
   ],
   "source": [
    "# Evaluating the possibility of creating an emergency fund with 3 conditions:\n",
    "\n",
    "if total_portfolio > emergency_fund_value:\n",
    "    print(\"Congratulation! You have enough money in the fund.\")\n",
    "elif total_portfolio == emergency_fund_value:\n",
    "    print(\"Congratulation! You have reached an important financial goal.\")\n",
    "else:    \n",
    "    total_portfolio < emergency_fund_value\n",
    "    print(\"You are ${total_portfolio - emergency_fund_value} from reaching your goal.\")"
   ]
  },
  {
   "cell_type": "markdown",
   "metadata": {},
   "source": [
    "## Part 2: Create a Financial Planner for Retirement"
   ]
  },
  {
   "cell_type": "markdown",
   "metadata": {},
   "source": [
    "### Create the Monte Carlo Simulation\n",
    "\n",
    "In this section, you’ll use the MCForecastTools library to create a Monte Carlo simulation for the member’s savings portfolio. To do this, complete the following steps:\n",
    "\n",
    "1. Make an API call via the Alpaca SDK to get 3 years of historical closing prices for a traditional 60/40 portfolio split: 60% stocks (SPY) and 40% bonds (AGG).\n",
    "\n",
    "2. Run a Monte Carlo simulation of 500 samples and 30 years for the 60/40 portfolio, and then plot the results.The following image shows the overlay line plot resulting from a simulation with these characteristics. However, because a random number generator is used to run each live Monte Carlo simulation, your image will differ slightly from this exact image:\n",
    "\n",
    "![A screenshot depicts the resulting plot.](Images/5-4-monte-carlo-line-plot.png)\n",
    "\n",
    "3. Plot the probability distribution of the Monte Carlo simulation. Plot the probability distribution of the Monte Carlo simulation. The following image shows the histogram plot resulting from a simulation with these characteristics. However, because a random number generator is used to run each live Monte Carlo simulation, your image will differ slightly from this exact image:\n",
    "\n",
    "![A screenshot depicts the histogram plot.](Images/5-4-monte-carlo-histogram.png)\n",
    "\n",
    "4. Generate the summary statistics for the Monte Carlo simulation.\n",
    "\n"
   ]
  },
  {
   "cell_type": "markdown",
   "metadata": {},
   "source": [
    "#### Step 1: Make an API call via the Alpaca SDK to get 3 years of historical closing prices for a traditional 60/40 portfolio split: 60% stocks (SPY) and 40% bonds (AGG)."
   ]
  },
  {
   "cell_type": "code",
   "execution_count": 30,
   "metadata": {},
   "outputs": [],
   "source": [
    "# Setting start and end dates of 3 years back from your current date\n",
    "start_date = pd.Timestamp(\"2017-08-08\", tz=\"America/New_York\").isoformat()\n",
    "end_date = pd.Timestamp(\"2020-08-08\", tz=\"America/New_York\").isoformat()"
   ]
  },
  {
   "cell_type": "code",
   "execution_count": 31,
   "metadata": {},
   "outputs": [
    {
     "data": {
      "text/html": [
       "<div>\n",
       "<style scoped>\n",
       "    .dataframe tbody tr th:only-of-type {\n",
       "        vertical-align: middle;\n",
       "    }\n",
       "\n",
       "    .dataframe tbody tr th {\n",
       "        vertical-align: top;\n",
       "    }\n",
       "\n",
       "    .dataframe thead tr th {\n",
       "        text-align: left;\n",
       "    }\n",
       "\n",
       "    .dataframe thead tr:last-of-type th {\n",
       "        text-align: right;\n",
       "    }\n",
       "</style>\n",
       "<table border=\"1\" class=\"dataframe\">\n",
       "  <thead>\n",
       "    <tr>\n",
       "      <th></th>\n",
       "      <th colspan=\"7\" halign=\"left\">SPY</th>\n",
       "      <th colspan=\"7\" halign=\"left\">AGG</th>\n",
       "    </tr>\n",
       "    <tr>\n",
       "      <th></th>\n",
       "      <th>open</th>\n",
       "      <th>high</th>\n",
       "      <th>low</th>\n",
       "      <th>close</th>\n",
       "      <th>volume</th>\n",
       "      <th>trade_count</th>\n",
       "      <th>vwap</th>\n",
       "      <th>open</th>\n",
       "      <th>high</th>\n",
       "      <th>low</th>\n",
       "      <th>close</th>\n",
       "      <th>volume</th>\n",
       "      <th>trade_count</th>\n",
       "      <th>vwap</th>\n",
       "    </tr>\n",
       "    <tr>\n",
       "      <th>timestamp</th>\n",
       "      <th></th>\n",
       "      <th></th>\n",
       "      <th></th>\n",
       "      <th></th>\n",
       "      <th></th>\n",
       "      <th></th>\n",
       "      <th></th>\n",
       "      <th></th>\n",
       "      <th></th>\n",
       "      <th></th>\n",
       "      <th></th>\n",
       "      <th></th>\n",
       "      <th></th>\n",
       "      <th></th>\n",
       "    </tr>\n",
       "  </thead>\n",
       "  <tbody>\n",
       "    <tr>\n",
       "      <th>2020-08-03 04:00:00+00:00</th>\n",
       "      <td>328.3200</td>\n",
       "      <td>329.62</td>\n",
       "      <td>327.73</td>\n",
       "      <td>328.67</td>\n",
       "      <td>53078112</td>\n",
       "      <td>288003</td>\n",
       "      <td>328.658795</td>\n",
       "      <td>119.37</td>\n",
       "      <td>119.40</td>\n",
       "      <td>119.1903</td>\n",
       "      <td>119.40</td>\n",
       "      <td>13014535</td>\n",
       "      <td>36359</td>\n",
       "      <td>119.282420</td>\n",
       "    </tr>\n",
       "    <tr>\n",
       "      <th>2020-08-04 04:00:00+00:00</th>\n",
       "      <td>327.8600</td>\n",
       "      <td>330.06</td>\n",
       "      <td>327.86</td>\n",
       "      <td>330.00</td>\n",
       "      <td>41917896</td>\n",
       "      <td>250899</td>\n",
       "      <td>329.057592</td>\n",
       "      <td>119.42</td>\n",
       "      <td>119.63</td>\n",
       "      <td>119.4200</td>\n",
       "      <td>119.63</td>\n",
       "      <td>10935154</td>\n",
       "      <td>39113</td>\n",
       "      <td>119.541666</td>\n",
       "    </tr>\n",
       "    <tr>\n",
       "      <th>2020-08-05 04:00:00+00:00</th>\n",
       "      <td>331.4700</td>\n",
       "      <td>332.39</td>\n",
       "      <td>331.18</td>\n",
       "      <td>332.03</td>\n",
       "      <td>42870955</td>\n",
       "      <td>241416</td>\n",
       "      <td>331.791643</td>\n",
       "      <td>119.39</td>\n",
       "      <td>119.49</td>\n",
       "      <td>119.3100</td>\n",
       "      <td>119.40</td>\n",
       "      <td>17377874</td>\n",
       "      <td>42313</td>\n",
       "      <td>119.387245</td>\n",
       "    </tr>\n",
       "    <tr>\n",
       "      <th>2020-08-06 04:00:00+00:00</th>\n",
       "      <td>331.4799</td>\n",
       "      <td>334.46</td>\n",
       "      <td>331.13</td>\n",
       "      <td>334.32</td>\n",
       "      <td>43679448</td>\n",
       "      <td>290036</td>\n",
       "      <td>332.939600</td>\n",
       "      <td>119.62</td>\n",
       "      <td>119.73</td>\n",
       "      <td>119.5300</td>\n",
       "      <td>119.57</td>\n",
       "      <td>4608710</td>\n",
       "      <td>15938</td>\n",
       "      <td>119.604199</td>\n",
       "    </tr>\n",
       "    <tr>\n",
       "      <th>2020-08-07 04:00:00+00:00</th>\n",
       "      <td>333.2800</td>\n",
       "      <td>334.88</td>\n",
       "      <td>332.30</td>\n",
       "      <td>334.57</td>\n",
       "      <td>57282821</td>\n",
       "      <td>350100</td>\n",
       "      <td>333.800372</td>\n",
       "      <td>119.66</td>\n",
       "      <td>119.73</td>\n",
       "      <td>119.3950</td>\n",
       "      <td>119.43</td>\n",
       "      <td>5559066</td>\n",
       "      <td>15246</td>\n",
       "      <td>119.475306</td>\n",
       "    </tr>\n",
       "  </tbody>\n",
       "</table>\n",
       "</div>"
      ],
      "text/plain": [
       "                                SPY                                    \\\n",
       "                               open    high     low   close    volume   \n",
       "timestamp                                                               \n",
       "2020-08-03 04:00:00+00:00  328.3200  329.62  327.73  328.67  53078112   \n",
       "2020-08-04 04:00:00+00:00  327.8600  330.06  327.86  330.00  41917896   \n",
       "2020-08-05 04:00:00+00:00  331.4700  332.39  331.18  332.03  42870955   \n",
       "2020-08-06 04:00:00+00:00  331.4799  334.46  331.13  334.32  43679448   \n",
       "2020-08-07 04:00:00+00:00  333.2800  334.88  332.30  334.57  57282821   \n",
       "\n",
       "                                                      AGG                    \\\n",
       "                          trade_count        vwap    open    high       low   \n",
       "timestamp                                                                     \n",
       "2020-08-03 04:00:00+00:00      288003  328.658795  119.37  119.40  119.1903   \n",
       "2020-08-04 04:00:00+00:00      250899  329.057592  119.42  119.63  119.4200   \n",
       "2020-08-05 04:00:00+00:00      241416  331.791643  119.39  119.49  119.3100   \n",
       "2020-08-06 04:00:00+00:00      290036  332.939600  119.62  119.73  119.5300   \n",
       "2020-08-07 04:00:00+00:00      350100  333.800372  119.66  119.73  119.3950   \n",
       "\n",
       "                                                                     \n",
       "                            close    volume trade_count        vwap  \n",
       "timestamp                                                            \n",
       "2020-08-03 04:00:00+00:00  119.40  13014535       36359  119.282420  \n",
       "2020-08-04 04:00:00+00:00  119.63  10935154       39113  119.541666  \n",
       "2020-08-05 04:00:00+00:00  119.40  17377874       42313  119.387245  \n",
       "2020-08-06 04:00:00+00:00  119.57   4608710       15938  119.604199  \n",
       "2020-08-07 04:00:00+00:00  119.43   5559066       15246  119.475306  "
      ]
     },
     "execution_count": 31,
     "metadata": {},
     "output_type": "execute_result"
    }
   ],
   "source": [
    "# Using the Alpaca get_bars function to make the API call to get the 3 years worth of pricing data\n",
    "# The tickers and timeframe parameters had been set in Part 1 of this activity \n",
    "# The start and end dates had been updated with the information set above\n",
    "# Adding the df property to the end of the call so the response is returned as a DataFrame\n",
    "prices_df = alpaca.get_bars(\n",
    "    tickers,\n",
    "    timeframe,\n",
    "    start = start_date,\n",
    "    end = end_date\n",
    ").df\n",
    "\n",
    "# Reorganizing the DataFrame\n",
    "# Separating ticker data\n",
    "SPY = prices_df[prices_df['symbol']=='SPY'].drop('symbol', axis=1)\n",
    "AGG = prices_df[prices_df['symbol']=='AGG'].drop('symbol', axis=1)\n",
    "\n",
    "# Concatenating the ticker DataFrames\n",
    "prices_df = pd.concat([SPY,AGG],axis=1, keys=['SPY','AGG'])\n",
    "\n",
    "# Displaying both the first and last five rows of the DataFrame\n",
    "prices_df.head()\n",
    "prices_df.tail()"
   ]
  },
  {
   "cell_type": "markdown",
   "metadata": {},
   "source": [
    "#### Step 2: Run a Monte Carlo simulation of 500 samples and 30 years for the 60/40 portfolio, and then plot the results."
   ]
  },
  {
   "cell_type": "code",
   "execution_count": 67,
   "metadata": {},
   "outputs": [
    {
     "data": {
      "text/html": [
       "<div>\n",
       "<style scoped>\n",
       "    .dataframe tbody tr th:only-of-type {\n",
       "        vertical-align: middle;\n",
       "    }\n",
       "\n",
       "    .dataframe tbody tr th {\n",
       "        vertical-align: top;\n",
       "    }\n",
       "\n",
       "    .dataframe thead tr th {\n",
       "        text-align: left;\n",
       "    }\n",
       "\n",
       "    .dataframe thead tr:last-of-type th {\n",
       "        text-align: right;\n",
       "    }\n",
       "</style>\n",
       "<table border=\"1\" class=\"dataframe\">\n",
       "  <thead>\n",
       "    <tr>\n",
       "      <th></th>\n",
       "      <th colspan=\"8\" halign=\"left\">SPY</th>\n",
       "      <th colspan=\"8\" halign=\"left\">AGG</th>\n",
       "    </tr>\n",
       "    <tr>\n",
       "      <th></th>\n",
       "      <th>open</th>\n",
       "      <th>high</th>\n",
       "      <th>low</th>\n",
       "      <th>close</th>\n",
       "      <th>volume</th>\n",
       "      <th>trade_count</th>\n",
       "      <th>vwap</th>\n",
       "      <th>daily_return</th>\n",
       "      <th>open</th>\n",
       "      <th>high</th>\n",
       "      <th>low</th>\n",
       "      <th>close</th>\n",
       "      <th>volume</th>\n",
       "      <th>trade_count</th>\n",
       "      <th>vwap</th>\n",
       "      <th>daily_return</th>\n",
       "    </tr>\n",
       "    <tr>\n",
       "      <th>timestamp</th>\n",
       "      <th></th>\n",
       "      <th></th>\n",
       "      <th></th>\n",
       "      <th></th>\n",
       "      <th></th>\n",
       "      <th></th>\n",
       "      <th></th>\n",
       "      <th></th>\n",
       "      <th></th>\n",
       "      <th></th>\n",
       "      <th></th>\n",
       "      <th></th>\n",
       "      <th></th>\n",
       "      <th></th>\n",
       "      <th></th>\n",
       "      <th></th>\n",
       "    </tr>\n",
       "  </thead>\n",
       "  <tbody>\n",
       "    <tr>\n",
       "      <th>2017-08-09 04:00:00+00:00</th>\n",
       "      <td>246.47</td>\n",
       "      <td>247.31</td>\n",
       "      <td>246.06</td>\n",
       "      <td>247.2700</td>\n",
       "      <td>62632619</td>\n",
       "      <td>223650</td>\n",
       "      <td>246.791421</td>\n",
       "      <td>0.000000</td>\n",
       "      <td>109.87</td>\n",
       "      <td>109.8700</td>\n",
       "      <td>109.66</td>\n",
       "      <td>109.67</td>\n",
       "      <td>2308932</td>\n",
       "      <td>11031</td>\n",
       "      <td>109.771749</td>\n",
       "      <td>0.000821</td>\n",
       "    </tr>\n",
       "    <tr>\n",
       "      <th>2017-08-10 04:00:00+00:00</th>\n",
       "      <td>246.29</td>\n",
       "      <td>246.44</td>\n",
       "      <td>243.70</td>\n",
       "      <td>243.7599</td>\n",
       "      <td>120418270</td>\n",
       "      <td>424321</td>\n",
       "      <td>245.027847</td>\n",
       "      <td>-0.014195</td>\n",
       "      <td>109.70</td>\n",
       "      <td>109.8500</td>\n",
       "      <td>109.67</td>\n",
       "      <td>109.80</td>\n",
       "      <td>2004163</td>\n",
       "      <td>12437</td>\n",
       "      <td>109.776611</td>\n",
       "      <td>0.001185</td>\n",
       "    </tr>\n",
       "    <tr>\n",
       "      <th>2017-08-11 04:00:00+00:00</th>\n",
       "      <td>244.02</td>\n",
       "      <td>244.80</td>\n",
       "      <td>243.75</td>\n",
       "      <td>244.1100</td>\n",
       "      <td>74869947</td>\n",
       "      <td>278786</td>\n",
       "      <td>244.222867</td>\n",
       "      <td>0.001436</td>\n",
       "      <td>109.75</td>\n",
       "      <td>109.9400</td>\n",
       "      <td>109.68</td>\n",
       "      <td>109.87</td>\n",
       "      <td>1913253</td>\n",
       "      <td>10113</td>\n",
       "      <td>109.860974</td>\n",
       "      <td>0.000638</td>\n",
       "    </tr>\n",
       "    <tr>\n",
       "      <th>2017-08-14 04:00:00+00:00</th>\n",
       "      <td>245.59</td>\n",
       "      <td>246.79</td>\n",
       "      <td>245.55</td>\n",
       "      <td>246.5000</td>\n",
       "      <td>73291919</td>\n",
       "      <td>227671</td>\n",
       "      <td>246.332178</td>\n",
       "      <td>0.009791</td>\n",
       "      <td>109.84</td>\n",
       "      <td>109.8969</td>\n",
       "      <td>109.74</td>\n",
       "      <td>109.80</td>\n",
       "      <td>2294261</td>\n",
       "      <td>10792</td>\n",
       "      <td>109.825015</td>\n",
       "      <td>-0.000637</td>\n",
       "    </tr>\n",
       "  </tbody>\n",
       "</table>\n",
       "</div>"
      ],
      "text/plain": [
       "                              SPY                                       \\\n",
       "                             open    high     low     close     volume   \n",
       "timestamp                                                                \n",
       "2017-08-09 04:00:00+00:00  246.47  247.31  246.06  247.2700   62632619   \n",
       "2017-08-10 04:00:00+00:00  246.29  246.44  243.70  243.7599  120418270   \n",
       "2017-08-11 04:00:00+00:00  244.02  244.80  243.75  244.1100   74869947   \n",
       "2017-08-14 04:00:00+00:00  245.59  246.79  245.55  246.5000   73291919   \n",
       "\n",
       "                                                                   AGG  \\\n",
       "                          trade_count        vwap daily_return    open   \n",
       "timestamp                                                                \n",
       "2017-08-09 04:00:00+00:00      223650  246.791421     0.000000  109.87   \n",
       "2017-08-10 04:00:00+00:00      424321  245.027847    -0.014195  109.70   \n",
       "2017-08-11 04:00:00+00:00      278786  244.222867     0.001436  109.75   \n",
       "2017-08-14 04:00:00+00:00      227671  246.332178     0.009791  109.84   \n",
       "\n",
       "                                                                          \\\n",
       "                               high     low   close   volume trade_count   \n",
       "timestamp                                                                  \n",
       "2017-08-09 04:00:00+00:00  109.8700  109.66  109.67  2308932       11031   \n",
       "2017-08-10 04:00:00+00:00  109.8500  109.67  109.80  2004163       12437   \n",
       "2017-08-11 04:00:00+00:00  109.9400  109.68  109.87  1913253       10113   \n",
       "2017-08-14 04:00:00+00:00  109.8969  109.74  109.80  2294261       10792   \n",
       "\n",
       "                                                    \n",
       "                                 vwap daily_return  \n",
       "timestamp                                           \n",
       "2017-08-09 04:00:00+00:00  109.771749     0.000821  \n",
       "2017-08-10 04:00:00+00:00  109.776611     0.001185  \n",
       "2017-08-11 04:00:00+00:00  109.860974     0.000638  \n",
       "2017-08-14 04:00:00+00:00  109.825015    -0.000637  "
      ]
     },
     "execution_count": 67,
     "metadata": {},
     "output_type": "execute_result"
    }
   ],
   "source": [
    "# Configure the Monte Carlo simulation to forecast 30 years cumulative returns\n",
    "# The weights should be split 40% to AGG and 60% to SPY.\n",
    "# Run 500 samples.\n",
    "MC_thirty_year = MCSimulation(\n",
    "    portfolio_data = prices_df,\n",
    "    weights = [.60,.40],\n",
    "    num_simulation = 500,\n",
    "    num_trading_days = 252*30\n",
    ")\n",
    "# Reviewing the simulation input data\n",
    "MC_thirty_year.portfolio_data.head().dropna()"
   ]
  },
  {
   "cell_type": "code",
   "execution_count": 68,
   "metadata": {},
   "outputs": [
    {
     "name": "stdout",
     "output_type": "stream",
     "text": [
      "Running Monte Carlo simulation number 0.\n",
      "Running Monte Carlo simulation number 10.\n",
      "Running Monte Carlo simulation number 20.\n",
      "Running Monte Carlo simulation number 30.\n",
      "Running Monte Carlo simulation number 40.\n",
      "Running Monte Carlo simulation number 50.\n",
      "Running Monte Carlo simulation number 60.\n",
      "Running Monte Carlo simulation number 70.\n",
      "Running Monte Carlo simulation number 80.\n",
      "Running Monte Carlo simulation number 90.\n",
      "Running Monte Carlo simulation number 100.\n"
     ]
    },
    {
     "name": "stderr",
     "output_type": "stream",
     "text": [
      "/Users/alexvalenzuela/Documents/GitHub/financial_planning_tools/MCForecastTools.py:117: PerformanceWarning: DataFrame is highly fragmented.  This is usually the result of calling `frame.insert` many times, which has poor performance.  Consider joining all columns at once using pd.concat(axis=1) instead.  To get a de-fragmented frame, use `newframe = frame.copy()`\n",
      "  portfolio_cumulative_returns[n] = (1 + sim_df.fillna(0)).cumprod()\n"
     ]
    },
    {
     "name": "stdout",
     "output_type": "stream",
     "text": [
      "Running Monte Carlo simulation number 110.\n",
      "Running Monte Carlo simulation number 120.\n",
      "Running Monte Carlo simulation number 130.\n",
      "Running Monte Carlo simulation number 140.\n",
      "Running Monte Carlo simulation number 150.\n",
      "Running Monte Carlo simulation number 160.\n",
      "Running Monte Carlo simulation number 170.\n",
      "Running Monte Carlo simulation number 180.\n",
      "Running Monte Carlo simulation number 190.\n",
      "Running Monte Carlo simulation number 200.\n",
      "Running Monte Carlo simulation number 210.\n",
      "Running Monte Carlo simulation number 220.\n",
      "Running Monte Carlo simulation number 230.\n",
      "Running Monte Carlo simulation number 240.\n",
      "Running Monte Carlo simulation number 250.\n",
      "Running Monte Carlo simulation number 260.\n",
      "Running Monte Carlo simulation number 270.\n",
      "Running Monte Carlo simulation number 280.\n",
      "Running Monte Carlo simulation number 290.\n",
      "Running Monte Carlo simulation number 300.\n",
      "Running Monte Carlo simulation number 310.\n",
      "Running Monte Carlo simulation number 320.\n",
      "Running Monte Carlo simulation number 330.\n",
      "Running Monte Carlo simulation number 340.\n",
      "Running Monte Carlo simulation number 350.\n",
      "Running Monte Carlo simulation number 360.\n",
      "Running Monte Carlo simulation number 370.\n",
      "Running Monte Carlo simulation number 380.\n",
      "Running Monte Carlo simulation number 390.\n",
      "Running Monte Carlo simulation number 400.\n",
      "Running Monte Carlo simulation number 410.\n",
      "Running Monte Carlo simulation number 420.\n",
      "Running Monte Carlo simulation number 430.\n",
      "Running Monte Carlo simulation number 440.\n",
      "Running Monte Carlo simulation number 450.\n",
      "Running Monte Carlo simulation number 460.\n",
      "Running Monte Carlo simulation number 470.\n",
      "Running Monte Carlo simulation number 480.\n",
      "Running Monte Carlo simulation number 490.\n"
     ]
    },
    {
     "data": {
      "text/html": [
       "<div>\n",
       "<style scoped>\n",
       "    .dataframe tbody tr th:only-of-type {\n",
       "        vertical-align: middle;\n",
       "    }\n",
       "\n",
       "    .dataframe tbody tr th {\n",
       "        vertical-align: top;\n",
       "    }\n",
       "\n",
       "    .dataframe thead th {\n",
       "        text-align: right;\n",
       "    }\n",
       "</style>\n",
       "<table border=\"1\" class=\"dataframe\">\n",
       "  <thead>\n",
       "    <tr style=\"text-align: right;\">\n",
       "      <th></th>\n",
       "      <th>0</th>\n",
       "      <th>1</th>\n",
       "      <th>2</th>\n",
       "      <th>3</th>\n",
       "      <th>4</th>\n",
       "      <th>5</th>\n",
       "      <th>6</th>\n",
       "      <th>7</th>\n",
       "      <th>8</th>\n",
       "      <th>9</th>\n",
       "      <th>...</th>\n",
       "      <th>490</th>\n",
       "      <th>491</th>\n",
       "      <th>492</th>\n",
       "      <th>493</th>\n",
       "      <th>494</th>\n",
       "      <th>495</th>\n",
       "      <th>496</th>\n",
       "      <th>497</th>\n",
       "      <th>498</th>\n",
       "      <th>499</th>\n",
       "    </tr>\n",
       "  </thead>\n",
       "  <tbody>\n",
       "    <tr>\n",
       "      <th>0</th>\n",
       "      <td>1.000000</td>\n",
       "      <td>1.000000</td>\n",
       "      <td>1.000000</td>\n",
       "      <td>1.000000</td>\n",
       "      <td>1.000000</td>\n",
       "      <td>1.000000</td>\n",
       "      <td>1.000000</td>\n",
       "      <td>1.000000</td>\n",
       "      <td>1.000000</td>\n",
       "      <td>1.000000</td>\n",
       "      <td>...</td>\n",
       "      <td>1.000000</td>\n",
       "      <td>1.000000</td>\n",
       "      <td>1.000000</td>\n",
       "      <td>1.000000</td>\n",
       "      <td>1.000000</td>\n",
       "      <td>1.000000</td>\n",
       "      <td>1.000000</td>\n",
       "      <td>1.000000</td>\n",
       "      <td>1.000000</td>\n",
       "      <td>1.000000</td>\n",
       "    </tr>\n",
       "    <tr>\n",
       "      <th>1</th>\n",
       "      <td>1.006657</td>\n",
       "      <td>1.001266</td>\n",
       "      <td>0.999816</td>\n",
       "      <td>0.996699</td>\n",
       "      <td>0.994320</td>\n",
       "      <td>0.993653</td>\n",
       "      <td>0.993655</td>\n",
       "      <td>0.990890</td>\n",
       "      <td>1.004102</td>\n",
       "      <td>0.995842</td>\n",
       "      <td>...</td>\n",
       "      <td>1.018850</td>\n",
       "      <td>1.000313</td>\n",
       "      <td>0.996153</td>\n",
       "      <td>1.000404</td>\n",
       "      <td>1.025487</td>\n",
       "      <td>0.995914</td>\n",
       "      <td>1.009326</td>\n",
       "      <td>1.005674</td>\n",
       "      <td>1.008309</td>\n",
       "      <td>0.993491</td>\n",
       "    </tr>\n",
       "    <tr>\n",
       "      <th>2</th>\n",
       "      <td>1.015674</td>\n",
       "      <td>1.007397</td>\n",
       "      <td>1.001900</td>\n",
       "      <td>0.996436</td>\n",
       "      <td>0.996654</td>\n",
       "      <td>0.990968</td>\n",
       "      <td>0.979197</td>\n",
       "      <td>0.997682</td>\n",
       "      <td>1.003524</td>\n",
       "      <td>1.004483</td>\n",
       "      <td>...</td>\n",
       "      <td>1.011025</td>\n",
       "      <td>1.006452</td>\n",
       "      <td>0.992669</td>\n",
       "      <td>1.010110</td>\n",
       "      <td>1.024252</td>\n",
       "      <td>1.002238</td>\n",
       "      <td>1.024356</td>\n",
       "      <td>1.019518</td>\n",
       "      <td>0.996171</td>\n",
       "      <td>0.994646</td>\n",
       "    </tr>\n",
       "    <tr>\n",
       "      <th>3</th>\n",
       "      <td>1.006142</td>\n",
       "      <td>0.997868</td>\n",
       "      <td>0.998755</td>\n",
       "      <td>0.983005</td>\n",
       "      <td>0.990426</td>\n",
       "      <td>0.981532</td>\n",
       "      <td>0.982956</td>\n",
       "      <td>1.008354</td>\n",
       "      <td>1.005839</td>\n",
       "      <td>1.003682</td>\n",
       "      <td>...</td>\n",
       "      <td>1.013029</td>\n",
       "      <td>1.011503</td>\n",
       "      <td>0.990216</td>\n",
       "      <td>1.011346</td>\n",
       "      <td>1.014003</td>\n",
       "      <td>1.014042</td>\n",
       "      <td>1.024391</td>\n",
       "      <td>1.010969</td>\n",
       "      <td>0.995054</td>\n",
       "      <td>1.001212</td>\n",
       "    </tr>\n",
       "    <tr>\n",
       "      <th>4</th>\n",
       "      <td>1.007865</td>\n",
       "      <td>1.002938</td>\n",
       "      <td>1.009247</td>\n",
       "      <td>0.985467</td>\n",
       "      <td>0.979809</td>\n",
       "      <td>0.981901</td>\n",
       "      <td>0.981264</td>\n",
       "      <td>1.013907</td>\n",
       "      <td>1.010586</td>\n",
       "      <td>1.006746</td>\n",
       "      <td>...</td>\n",
       "      <td>1.001916</td>\n",
       "      <td>1.004328</td>\n",
       "      <td>0.998315</td>\n",
       "      <td>1.019383</td>\n",
       "      <td>1.006092</td>\n",
       "      <td>0.996424</td>\n",
       "      <td>1.034968</td>\n",
       "      <td>1.010206</td>\n",
       "      <td>1.002788</td>\n",
       "      <td>0.992888</td>\n",
       "    </tr>\n",
       "    <tr>\n",
       "      <th>...</th>\n",
       "      <td>...</td>\n",
       "      <td>...</td>\n",
       "      <td>...</td>\n",
       "      <td>...</td>\n",
       "      <td>...</td>\n",
       "      <td>...</td>\n",
       "      <td>...</td>\n",
       "      <td>...</td>\n",
       "      <td>...</td>\n",
       "      <td>...</td>\n",
       "      <td>...</td>\n",
       "      <td>...</td>\n",
       "      <td>...</td>\n",
       "      <td>...</td>\n",
       "      <td>...</td>\n",
       "      <td>...</td>\n",
       "      <td>...</td>\n",
       "      <td>...</td>\n",
       "      <td>...</td>\n",
       "      <td>...</td>\n",
       "      <td>...</td>\n",
       "    </tr>\n",
       "    <tr>\n",
       "      <th>7556</th>\n",
       "      <td>16.541200</td>\n",
       "      <td>8.740104</td>\n",
       "      <td>5.459592</td>\n",
       "      <td>8.081261</td>\n",
       "      <td>8.320122</td>\n",
       "      <td>9.319037</td>\n",
       "      <td>10.777669</td>\n",
       "      <td>24.149389</td>\n",
       "      <td>52.095341</td>\n",
       "      <td>9.063910</td>\n",
       "      <td>...</td>\n",
       "      <td>18.468751</td>\n",
       "      <td>4.745824</td>\n",
       "      <td>50.740236</td>\n",
       "      <td>19.281724</td>\n",
       "      <td>10.729703</td>\n",
       "      <td>9.528904</td>\n",
       "      <td>10.345142</td>\n",
       "      <td>29.546935</td>\n",
       "      <td>9.773064</td>\n",
       "      <td>10.881174</td>\n",
       "    </tr>\n",
       "    <tr>\n",
       "      <th>7557</th>\n",
       "      <td>16.580111</td>\n",
       "      <td>8.720863</td>\n",
       "      <td>5.467476</td>\n",
       "      <td>8.142890</td>\n",
       "      <td>8.319139</td>\n",
       "      <td>9.343485</td>\n",
       "      <td>10.828135</td>\n",
       "      <td>24.048082</td>\n",
       "      <td>51.732338</td>\n",
       "      <td>9.079084</td>\n",
       "      <td>...</td>\n",
       "      <td>18.616979</td>\n",
       "      <td>4.733811</td>\n",
       "      <td>50.218276</td>\n",
       "      <td>19.355522</td>\n",
       "      <td>10.541054</td>\n",
       "      <td>9.617576</td>\n",
       "      <td>10.161320</td>\n",
       "      <td>29.654465</td>\n",
       "      <td>9.712280</td>\n",
       "      <td>10.641107</td>\n",
       "    </tr>\n",
       "    <tr>\n",
       "      <th>7558</th>\n",
       "      <td>16.880192</td>\n",
       "      <td>8.854667</td>\n",
       "      <td>5.433198</td>\n",
       "      <td>8.059617</td>\n",
       "      <td>8.272816</td>\n",
       "      <td>9.424975</td>\n",
       "      <td>10.872555</td>\n",
       "      <td>23.840738</td>\n",
       "      <td>51.243460</td>\n",
       "      <td>9.219732</td>\n",
       "      <td>...</td>\n",
       "      <td>18.595129</td>\n",
       "      <td>4.681974</td>\n",
       "      <td>49.686355</td>\n",
       "      <td>19.023709</td>\n",
       "      <td>10.608906</td>\n",
       "      <td>9.659684</td>\n",
       "      <td>10.195960</td>\n",
       "      <td>29.843452</td>\n",
       "      <td>9.740338</td>\n",
       "      <td>10.636439</td>\n",
       "    </tr>\n",
       "    <tr>\n",
       "      <th>7559</th>\n",
       "      <td>17.090178</td>\n",
       "      <td>8.900061</td>\n",
       "      <td>5.438271</td>\n",
       "      <td>8.098808</td>\n",
       "      <td>8.307635</td>\n",
       "      <td>9.359674</td>\n",
       "      <td>10.751844</td>\n",
       "      <td>24.002515</td>\n",
       "      <td>51.596679</td>\n",
       "      <td>9.193937</td>\n",
       "      <td>...</td>\n",
       "      <td>18.777011</td>\n",
       "      <td>4.688050</td>\n",
       "      <td>49.583058</td>\n",
       "      <td>19.180469</td>\n",
       "      <td>10.755499</td>\n",
       "      <td>9.654644</td>\n",
       "      <td>10.224045</td>\n",
       "      <td>29.761243</td>\n",
       "      <td>9.834648</td>\n",
       "      <td>10.520787</td>\n",
       "    </tr>\n",
       "    <tr>\n",
       "      <th>7560</th>\n",
       "      <td>17.004410</td>\n",
       "      <td>8.920955</td>\n",
       "      <td>5.466747</td>\n",
       "      <td>8.024566</td>\n",
       "      <td>8.174624</td>\n",
       "      <td>9.353958</td>\n",
       "      <td>10.735232</td>\n",
       "      <td>24.371155</td>\n",
       "      <td>51.377287</td>\n",
       "      <td>9.146467</td>\n",
       "      <td>...</td>\n",
       "      <td>18.746125</td>\n",
       "      <td>4.599377</td>\n",
       "      <td>49.468912</td>\n",
       "      <td>19.180907</td>\n",
       "      <td>10.881445</td>\n",
       "      <td>9.707551</td>\n",
       "      <td>10.273758</td>\n",
       "      <td>29.638100</td>\n",
       "      <td>9.830712</td>\n",
       "      <td>10.561032</td>\n",
       "    </tr>\n",
       "  </tbody>\n",
       "</table>\n",
       "<p>7561 rows × 500 columns</p>\n",
       "</div>"
      ],
      "text/plain": [
       "            0         1         2         3         4         5          6    \\\n",
       "0      1.000000  1.000000  1.000000  1.000000  1.000000  1.000000   1.000000   \n",
       "1      1.006657  1.001266  0.999816  0.996699  0.994320  0.993653   0.993655   \n",
       "2      1.015674  1.007397  1.001900  0.996436  0.996654  0.990968   0.979197   \n",
       "3      1.006142  0.997868  0.998755  0.983005  0.990426  0.981532   0.982956   \n",
       "4      1.007865  1.002938  1.009247  0.985467  0.979809  0.981901   0.981264   \n",
       "...         ...       ...       ...       ...       ...       ...        ...   \n",
       "7556  16.541200  8.740104  5.459592  8.081261  8.320122  9.319037  10.777669   \n",
       "7557  16.580111  8.720863  5.467476  8.142890  8.319139  9.343485  10.828135   \n",
       "7558  16.880192  8.854667  5.433198  8.059617  8.272816  9.424975  10.872555   \n",
       "7559  17.090178  8.900061  5.438271  8.098808  8.307635  9.359674  10.751844   \n",
       "7560  17.004410  8.920955  5.466747  8.024566  8.174624  9.353958  10.735232   \n",
       "\n",
       "            7          8         9    ...        490       491        492  \\\n",
       "0      1.000000   1.000000  1.000000  ...   1.000000  1.000000   1.000000   \n",
       "1      0.990890   1.004102  0.995842  ...   1.018850  1.000313   0.996153   \n",
       "2      0.997682   1.003524  1.004483  ...   1.011025  1.006452   0.992669   \n",
       "3      1.008354   1.005839  1.003682  ...   1.013029  1.011503   0.990216   \n",
       "4      1.013907   1.010586  1.006746  ...   1.001916  1.004328   0.998315   \n",
       "...         ...        ...       ...  ...        ...       ...        ...   \n",
       "7556  24.149389  52.095341  9.063910  ...  18.468751  4.745824  50.740236   \n",
       "7557  24.048082  51.732338  9.079084  ...  18.616979  4.733811  50.218276   \n",
       "7558  23.840738  51.243460  9.219732  ...  18.595129  4.681974  49.686355   \n",
       "7559  24.002515  51.596679  9.193937  ...  18.777011  4.688050  49.583058   \n",
       "7560  24.371155  51.377287  9.146467  ...  18.746125  4.599377  49.468912   \n",
       "\n",
       "            493        494       495        496        497       498  \\\n",
       "0      1.000000   1.000000  1.000000   1.000000   1.000000  1.000000   \n",
       "1      1.000404   1.025487  0.995914   1.009326   1.005674  1.008309   \n",
       "2      1.010110   1.024252  1.002238   1.024356   1.019518  0.996171   \n",
       "3      1.011346   1.014003  1.014042   1.024391   1.010969  0.995054   \n",
       "4      1.019383   1.006092  0.996424   1.034968   1.010206  1.002788   \n",
       "...         ...        ...       ...        ...        ...       ...   \n",
       "7556  19.281724  10.729703  9.528904  10.345142  29.546935  9.773064   \n",
       "7557  19.355522  10.541054  9.617576  10.161320  29.654465  9.712280   \n",
       "7558  19.023709  10.608906  9.659684  10.195960  29.843452  9.740338   \n",
       "7559  19.180469  10.755499  9.654644  10.224045  29.761243  9.834648   \n",
       "7560  19.180907  10.881445  9.707551  10.273758  29.638100  9.830712   \n",
       "\n",
       "            499  \n",
       "0      1.000000  \n",
       "1      0.993491  \n",
       "2      0.994646  \n",
       "3      1.001212  \n",
       "4      0.992888  \n",
       "...         ...  \n",
       "7556  10.881174  \n",
       "7557  10.641107  \n",
       "7558  10.636439  \n",
       "7559  10.520787  \n",
       "7560  10.561032  \n",
       "\n",
       "[7561 rows x 500 columns]"
      ]
     },
     "execution_count": 68,
     "metadata": {},
     "output_type": "execute_result"
    }
   ],
   "source": [
    "# Running the Monte Carlo simulation to forecast 30 years cumulative returns\n",
    "MC_thirty_year.calc_cumulative_return()"
   ]
  },
  {
   "cell_type": "code",
   "execution_count": 69,
   "metadata": {},
   "outputs": [
    {
     "data": {
      "image/png": "[encoded data removed]",
      "text/plain": [
       "<Figure size 640x480 with 1 Axes>"
      ]
     },
     "metadata": {},
     "output_type": "display_data"
    }
   ],
   "source": [
    "# Visualizing the 30-year Monte Carlo simulation by creating an\n",
    "# overlay line plot\n",
    "MC_sim_line_plot = MC_thirty_year.plot_simulation()"
   ]
  },
  {
   "cell_type": "markdown",
   "metadata": {},
   "source": [
    "#### Step 3: Plot the probability distribution of the Monte Carlo simulation."
   ]
  },
  {
   "cell_type": "code",
   "execution_count": 70,
   "metadata": {},
   "outputs": [
    {
     "data": {
      "image/png": "[encoded data removed]",
      "text/plain": [
       "<Figure size 640x480 with 1 Axes>"
      ]
     },
     "metadata": {},
     "output_type": "display_data"
    }
   ],
   "source": [
    "# Visualizing the probability distribution of the 30-year Monte Carlo simulation \n",
    "# by plotting a histogram\n",
    "MC_sim_dist_plot = MC_thirty_year.plot_distribution()"
   ]
  },
  {
   "cell_type": "markdown",
   "metadata": {},
   "source": [
    "#### Step 4: Generate the summary statistics for the Monte Carlo simulation."
   ]
  },
  {
   "cell_type": "code",
   "execution_count": 71,
   "metadata": {},
   "outputs": [
    {
     "name": "stdout",
     "output_type": "stream",
     "text": [
      "count           500.000000\n",
      "mean             12.821007\n",
      "std               9.532114\n",
      "min               1.479670\n",
      "25%               6.130012\n",
      "50%               9.948104\n",
      "75%              16.990293\n",
      "max              60.320300\n",
      "95% CI Lower      2.814390\n",
      "95% CI Upper     40.835195\n",
      "Name: 7560, dtype: float64\n"
     ]
    }
   ],
   "source": [
    "# Generating summary statistics from the 30-year Monte Carlo simulation results\n",
    "# and saving the results as a variable\n",
    "MC_summary_statistics = MC_thirty_year.summarize_cumulative_return()\n",
    "\n",
    "# Reviewing the 30-year Monte Carlo summary statistics\n",
    "print(MC_summary_statistics)"
   ]
  },
  {
   "cell_type": "markdown",
   "metadata": {},
   "source": [
    "### Analyze the Retirement Portfolio Forecasts\n",
    "\n",
    "Using the current value of only the stock and bond portion of the member's portfolio and the summary statistics that you generated from the Monte Carlo simulation, answer the following question in your Jupyter notebook:\n",
    "\n",
    "-  What are the lower and upper bounds for the expected value of the portfolio with a 95% confidence interval?\n"
   ]
  },
  {
   "cell_type": "code",
   "execution_count": 72,
   "metadata": {},
   "outputs": [
    {
     "data": {
      "text/plain": [
       "61836.2"
      ]
     },
     "execution_count": 72,
     "metadata": {},
     "output_type": "execute_result"
    }
   ],
   "source": [
    "# Printing the current balance of the stock and bond portion of the members portfolio\n",
    "total_stocks_bonds"
   ]
  },
  {
   "cell_type": "code",
   "execution_count": 82,
   "metadata": {},
   "outputs": [
    {
     "name": "stdout",
     "output_type": "stream",
     "text": [
      "There is a 95% chance that with a 60% stocks and 40% bonds weight portfolio, over the next 30 years will end within in the range of $174031.21 and $2525093.29.\n"
     ]
    }
   ],
   "source": [
    "# Using the lower and upper `95%` confidence intervals to calculate the range of the possible outcomes for the current stock/bond portfolio\n",
    "ci_lower_thirty_cumulative_return = MC_summary_statistics[8]* total_stocks_bonds\n",
    "ci_upper_thirty_cumulative_return = MC_summary_statistics[9]* total_stocks_bonds\n",
    "\n",
    "# Printing the result of your calculations\n",
    "print(f\"There is a 95% chance that with a 60% stocks and 40% bonds weight portfolio,\"\n",
    "      f\" over the next 30 years will end within in the range of\"\n",
    "      f\" ${ci_lower_thirty_cumulative_return:.2f} and ${ci_upper_thirty_cumulative_return:.2f}.\")"
   ]
  },
  {
   "cell_type": "markdown",
   "metadata": {},
   "source": [
    "### Forecast Cumulative Returns in 10 Years\n",
    "\n",
    "The CTO of the credit union is impressed with your work on these planning tools but wonders if 30 years is a long time to wait until retirement. So, your next task is to adjust the retirement portfolio and run a new Monte Carlo simulation to find out if the changes will allow members to retire earlier.\n",
    "\n",
    "For this new Monte Carlo simulation, do the following: \n",
    "\n",
    "- Forecast the cumulative returns for 10 years from now. Because of the shortened investment horizon (30 years to 10 years), the portfolio needs to invest more heavily in the riskier asset&mdash;that is, stock&mdash;to help accumulate wealth for retirement. \n",
    "\n",
    "- Adjust the weights of the retirement portfolio so that the composition for the Monte Carlo simulation consists of 20% bonds and 80% stocks. \n",
    "\n",
    "- Run the simulation over 500 samples, and use the same data that the API call to Alpaca generated.\n",
    "\n",
    "- Based on the new Monte Carlo simulation, answer the following questions in your Jupyter notebook:\n",
    "\n",
    "    - Using the current value of only the stock and bond portion of the member's portfolio and the summary statistics that you generated from the new Monte Carlo simulation, what are the lower and upper bounds for the expected value of the portfolio (with the new weights) with a 95% confidence interval?\n",
    "\n",
    "    - Will weighting the portfolio more heavily toward stocks allow the credit union members to retire after only 10 years?\n"
   ]
  },
  {
   "cell_type": "code",
   "execution_count": 91,
   "metadata": {},
   "outputs": [
    {
     "data": {
      "text/html": [
       "<div>\n",
       "<style scoped>\n",
       "    .dataframe tbody tr th:only-of-type {\n",
       "        vertical-align: middle;\n",
       "    }\n",
       "\n",
       "    .dataframe tbody tr th {\n",
       "        vertical-align: top;\n",
       "    }\n",
       "\n",
       "    .dataframe thead tr th {\n",
       "        text-align: left;\n",
       "    }\n",
       "\n",
       "    .dataframe thead tr:last-of-type th {\n",
       "        text-align: right;\n",
       "    }\n",
       "</style>\n",
       "<table border=\"1\" class=\"dataframe\">\n",
       "  <thead>\n",
       "    <tr>\n",
       "      <th></th>\n",
       "      <th colspan=\"8\" halign=\"left\">SPY</th>\n",
       "      <th colspan=\"8\" halign=\"left\">AGG</th>\n",
       "    </tr>\n",
       "    <tr>\n",
       "      <th></th>\n",
       "      <th>open</th>\n",
       "      <th>high</th>\n",
       "      <th>low</th>\n",
       "      <th>close</th>\n",
       "      <th>volume</th>\n",
       "      <th>trade_count</th>\n",
       "      <th>vwap</th>\n",
       "      <th>daily_return</th>\n",
       "      <th>open</th>\n",
       "      <th>high</th>\n",
       "      <th>low</th>\n",
       "      <th>close</th>\n",
       "      <th>volume</th>\n",
       "      <th>trade_count</th>\n",
       "      <th>vwap</th>\n",
       "      <th>daily_return</th>\n",
       "    </tr>\n",
       "    <tr>\n",
       "      <th>timestamp</th>\n",
       "      <th></th>\n",
       "      <th></th>\n",
       "      <th></th>\n",
       "      <th></th>\n",
       "      <th></th>\n",
       "      <th></th>\n",
       "      <th></th>\n",
       "      <th></th>\n",
       "      <th></th>\n",
       "      <th></th>\n",
       "      <th></th>\n",
       "      <th></th>\n",
       "      <th></th>\n",
       "      <th></th>\n",
       "      <th></th>\n",
       "      <th></th>\n",
       "    </tr>\n",
       "  </thead>\n",
       "  <tbody>\n",
       "    <tr>\n",
       "      <th>2017-08-09 04:00:00+00:00</th>\n",
       "      <td>246.47</td>\n",
       "      <td>247.31</td>\n",
       "      <td>246.06</td>\n",
       "      <td>247.2700</td>\n",
       "      <td>62632619</td>\n",
       "      <td>223650</td>\n",
       "      <td>246.791421</td>\n",
       "      <td>0.000000</td>\n",
       "      <td>109.87</td>\n",
       "      <td>109.8700</td>\n",
       "      <td>109.66</td>\n",
       "      <td>109.67</td>\n",
       "      <td>2308932</td>\n",
       "      <td>11031</td>\n",
       "      <td>109.771749</td>\n",
       "      <td>0.000821</td>\n",
       "    </tr>\n",
       "    <tr>\n",
       "      <th>2017-08-10 04:00:00+00:00</th>\n",
       "      <td>246.29</td>\n",
       "      <td>246.44</td>\n",
       "      <td>243.70</td>\n",
       "      <td>243.7599</td>\n",
       "      <td>120418270</td>\n",
       "      <td>424321</td>\n",
       "      <td>245.027847</td>\n",
       "      <td>-0.014195</td>\n",
       "      <td>109.70</td>\n",
       "      <td>109.8500</td>\n",
       "      <td>109.67</td>\n",
       "      <td>109.80</td>\n",
       "      <td>2004163</td>\n",
       "      <td>12437</td>\n",
       "      <td>109.776611</td>\n",
       "      <td>0.001185</td>\n",
       "    </tr>\n",
       "    <tr>\n",
       "      <th>2017-08-11 04:00:00+00:00</th>\n",
       "      <td>244.02</td>\n",
       "      <td>244.80</td>\n",
       "      <td>243.75</td>\n",
       "      <td>244.1100</td>\n",
       "      <td>74869947</td>\n",
       "      <td>278786</td>\n",
       "      <td>244.222867</td>\n",
       "      <td>0.001436</td>\n",
       "      <td>109.75</td>\n",
       "      <td>109.9400</td>\n",
       "      <td>109.68</td>\n",
       "      <td>109.87</td>\n",
       "      <td>1913253</td>\n",
       "      <td>10113</td>\n",
       "      <td>109.860974</td>\n",
       "      <td>0.000638</td>\n",
       "    </tr>\n",
       "    <tr>\n",
       "      <th>2017-08-14 04:00:00+00:00</th>\n",
       "      <td>245.59</td>\n",
       "      <td>246.79</td>\n",
       "      <td>245.55</td>\n",
       "      <td>246.5000</td>\n",
       "      <td>73291919</td>\n",
       "      <td>227671</td>\n",
       "      <td>246.332178</td>\n",
       "      <td>0.009791</td>\n",
       "      <td>109.84</td>\n",
       "      <td>109.8969</td>\n",
       "      <td>109.74</td>\n",
       "      <td>109.80</td>\n",
       "      <td>2294261</td>\n",
       "      <td>10792</td>\n",
       "      <td>109.825015</td>\n",
       "      <td>-0.000637</td>\n",
       "    </tr>\n",
       "  </tbody>\n",
       "</table>\n",
       "</div>"
      ],
      "text/plain": [
       "                              SPY                                       \\\n",
       "                             open    high     low     close     volume   \n",
       "timestamp                                                                \n",
       "2017-08-09 04:00:00+00:00  246.47  247.31  246.06  247.2700   62632619   \n",
       "2017-08-10 04:00:00+00:00  246.29  246.44  243.70  243.7599  120418270   \n",
       "2017-08-11 04:00:00+00:00  244.02  244.80  243.75  244.1100   74869947   \n",
       "2017-08-14 04:00:00+00:00  245.59  246.79  245.55  246.5000   73291919   \n",
       "\n",
       "                                                                   AGG  \\\n",
       "                          trade_count        vwap daily_return    open   \n",
       "timestamp                                                                \n",
       "2017-08-09 04:00:00+00:00      223650  246.791421     0.000000  109.87   \n",
       "2017-08-10 04:00:00+00:00      424321  245.027847    -0.014195  109.70   \n",
       "2017-08-11 04:00:00+00:00      278786  244.222867     0.001436  109.75   \n",
       "2017-08-14 04:00:00+00:00      227671  246.332178     0.009791  109.84   \n",
       "\n",
       "                                                                          \\\n",
       "                               high     low   close   volume trade_count   \n",
       "timestamp                                                                  \n",
       "2017-08-09 04:00:00+00:00  109.8700  109.66  109.67  2308932       11031   \n",
       "2017-08-10 04:00:00+00:00  109.8500  109.67  109.80  2004163       12437   \n",
       "2017-08-11 04:00:00+00:00  109.9400  109.68  109.87  1913253       10113   \n",
       "2017-08-14 04:00:00+00:00  109.8969  109.74  109.80  2294261       10792   \n",
       "\n",
       "                                                    \n",
       "                                 vwap daily_return  \n",
       "timestamp                                           \n",
       "2017-08-09 04:00:00+00:00  109.771749     0.000821  \n",
       "2017-08-10 04:00:00+00:00  109.776611     0.001185  \n",
       "2017-08-11 04:00:00+00:00  109.860974     0.000638  \n",
       "2017-08-14 04:00:00+00:00  109.825015    -0.000637  "
      ]
     },
     "execution_count": 91,
     "metadata": {},
     "output_type": "execute_result"
    }
   ],
   "source": [
    "# Configuring a Monte Carlo simulation to forecast 10 years cumulative returns\n",
    "# The weights should be split 20% to AGG and 80% to SPY.\n",
    "# Running 500 samples.\n",
    "MC_ten_year = MCSimulation(\n",
    "    portfolio_data = prices_df,\n",
    "    weights = [.80,.20],\n",
    "    num_simulation = 500,\n",
    "    num_trading_days = 252*10\n",
    ")\n",
    "# Reviewing the simulation input data\n",
    "MC_ten_year.portfolio_data.head().dropna()"
   ]
  },
  {
   "cell_type": "code",
   "execution_count": 92,
   "metadata": {},
   "outputs": [
    {
     "name": "stdout",
     "output_type": "stream",
     "text": [
      "Running Monte Carlo simulation number 0.\n",
      "Running Monte Carlo simulation number 10.\n",
      "Running Monte Carlo simulation number 20.\n",
      "Running Monte Carlo simulation number 30.\n",
      "Running Monte Carlo simulation number 40.\n",
      "Running Monte Carlo simulation number 50.\n",
      "Running Monte Carlo simulation number 60.\n",
      "Running Monte Carlo simulation number 70.\n",
      "Running Monte Carlo simulation number 80.\n",
      "Running Monte Carlo simulation number 90.\n",
      "Running Monte Carlo simulation number 100.\n"
     ]
    },
    {
     "name": "stderr",
     "output_type": "stream",
     "text": [
      "/Users/alexvalenzuela/Documents/GitHub/financial_planning_tools/MCForecastTools.py:117: PerformanceWarning: DataFrame is highly fragmented.  This is usually the result of calling `frame.insert` many times, which has poor performance.  Consider joining all columns at once using pd.concat(axis=1) instead.  To get a de-fragmented frame, use `newframe = frame.copy()`\n",
      "  portfolio_cumulative_returns[n] = (1 + sim_df.fillna(0)).cumprod()\n"
     ]
    },
    {
     "name": "stdout",
     "output_type": "stream",
     "text": [
      "Running Monte Carlo simulation number 110.\n",
      "Running Monte Carlo simulation number 120.\n",
      "Running Monte Carlo simulation number 130.\n",
      "Running Monte Carlo simulation number 140.\n",
      "Running Monte Carlo simulation number 150.\n",
      "Running Monte Carlo simulation number 160.\n",
      "Running Monte Carlo simulation number 170.\n",
      "Running Monte Carlo simulation number 180.\n",
      "Running Monte Carlo simulation number 190.\n",
      "Running Monte Carlo simulation number 200.\n",
      "Running Monte Carlo simulation number 210.\n",
      "Running Monte Carlo simulation number 220.\n",
      "Running Monte Carlo simulation number 230.\n",
      "Running Monte Carlo simulation number 240.\n",
      "Running Monte Carlo simulation number 250.\n",
      "Running Monte Carlo simulation number 260.\n",
      "Running Monte Carlo simulation number 270.\n",
      "Running Monte Carlo simulation number 280.\n",
      "Running Monte Carlo simulation number 290.\n",
      "Running Monte Carlo simulation number 300.\n",
      "Running Monte Carlo simulation number 310.\n",
      "Running Monte Carlo simulation number 320.\n",
      "Running Monte Carlo simulation number 330.\n",
      "Running Monte Carlo simulation number 340.\n",
      "Running Monte Carlo simulation number 350.\n",
      "Running Monte Carlo simulation number 360.\n",
      "Running Monte Carlo simulation number 370.\n",
      "Running Monte Carlo simulation number 380.\n",
      "Running Monte Carlo simulation number 390.\n",
      "Running Monte Carlo simulation number 400.\n",
      "Running Monte Carlo simulation number 410.\n",
      "Running Monte Carlo simulation number 420.\n",
      "Running Monte Carlo simulation number 430.\n",
      "Running Monte Carlo simulation number 440.\n",
      "Running Monte Carlo simulation number 450.\n",
      "Running Monte Carlo simulation number 460.\n",
      "Running Monte Carlo simulation number 470.\n",
      "Running Monte Carlo simulation number 480.\n",
      "Running Monte Carlo simulation number 490.\n"
     ]
    },
    {
     "data": {
      "text/html": [
       "<div>\n",
       "<style scoped>\n",
       "    .dataframe tbody tr th:only-of-type {\n",
       "        vertical-align: middle;\n",
       "    }\n",
       "\n",
       "    .dataframe tbody tr th {\n",
       "        vertical-align: top;\n",
       "    }\n",
       "\n",
       "    .dataframe thead th {\n",
       "        text-align: right;\n",
       "    }\n",
       "</style>\n",
       "<table border=\"1\" class=\"dataframe\">\n",
       "  <thead>\n",
       "    <tr style=\"text-align: right;\">\n",
       "      <th></th>\n",
       "      <th>0</th>\n",
       "      <th>1</th>\n",
       "      <th>2</th>\n",
       "      <th>3</th>\n",
       "      <th>4</th>\n",
       "      <th>5</th>\n",
       "      <th>6</th>\n",
       "      <th>7</th>\n",
       "      <th>8</th>\n",
       "      <th>9</th>\n",
       "      <th>...</th>\n",
       "      <th>490</th>\n",
       "      <th>491</th>\n",
       "      <th>492</th>\n",
       "      <th>493</th>\n",
       "      <th>494</th>\n",
       "      <th>495</th>\n",
       "      <th>496</th>\n",
       "      <th>497</th>\n",
       "      <th>498</th>\n",
       "      <th>499</th>\n",
       "    </tr>\n",
       "  </thead>\n",
       "  <tbody>\n",
       "    <tr>\n",
       "      <th>0</th>\n",
       "      <td>1.000000</td>\n",
       "      <td>1.000000</td>\n",
       "      <td>1.000000</td>\n",
       "      <td>1.000000</td>\n",
       "      <td>1.000000</td>\n",
       "      <td>1.000000</td>\n",
       "      <td>1.000000</td>\n",
       "      <td>1.000000</td>\n",
       "      <td>1.000000</td>\n",
       "      <td>1.000000</td>\n",
       "      <td>...</td>\n",
       "      <td>1.000000</td>\n",
       "      <td>1.000000</td>\n",
       "      <td>1.000000</td>\n",
       "      <td>1.000000</td>\n",
       "      <td>1.000000</td>\n",
       "      <td>1.000000</td>\n",
       "      <td>1.000000</td>\n",
       "      <td>1.000000</td>\n",
       "      <td>1.000000</td>\n",
       "      <td>1.000000</td>\n",
       "    </tr>\n",
       "    <tr>\n",
       "      <th>1</th>\n",
       "      <td>1.003501</td>\n",
       "      <td>0.997669</td>\n",
       "      <td>1.015938</td>\n",
       "      <td>0.983209</td>\n",
       "      <td>1.003238</td>\n",
       "      <td>0.990806</td>\n",
       "      <td>0.994129</td>\n",
       "      <td>1.026887</td>\n",
       "      <td>0.985936</td>\n",
       "      <td>0.992874</td>\n",
       "      <td>...</td>\n",
       "      <td>1.017591</td>\n",
       "      <td>0.995620</td>\n",
       "      <td>0.989441</td>\n",
       "      <td>0.977634</td>\n",
       "      <td>0.998507</td>\n",
       "      <td>1.008922</td>\n",
       "      <td>1.008019</td>\n",
       "      <td>1.016256</td>\n",
       "      <td>1.013419</td>\n",
       "      <td>1.007101</td>\n",
       "    </tr>\n",
       "    <tr>\n",
       "      <th>2</th>\n",
       "      <td>1.021538</td>\n",
       "      <td>0.991675</td>\n",
       "      <td>1.004905</td>\n",
       "      <td>0.967761</td>\n",
       "      <td>1.013438</td>\n",
       "      <td>0.969881</td>\n",
       "      <td>0.989514</td>\n",
       "      <td>1.032425</td>\n",
       "      <td>0.980986</td>\n",
       "      <td>1.000460</td>\n",
       "      <td>...</td>\n",
       "      <td>1.016183</td>\n",
       "      <td>1.004123</td>\n",
       "      <td>0.968765</td>\n",
       "      <td>0.981064</td>\n",
       "      <td>1.018041</td>\n",
       "      <td>1.021143</td>\n",
       "      <td>1.012870</td>\n",
       "      <td>1.019734</td>\n",
       "      <td>1.014233</td>\n",
       "      <td>1.019563</td>\n",
       "    </tr>\n",
       "    <tr>\n",
       "      <th>3</th>\n",
       "      <td>1.019791</td>\n",
       "      <td>1.001624</td>\n",
       "      <td>0.999499</td>\n",
       "      <td>0.961775</td>\n",
       "      <td>1.008890</td>\n",
       "      <td>0.959782</td>\n",
       "      <td>0.988909</td>\n",
       "      <td>1.029437</td>\n",
       "      <td>0.982963</td>\n",
       "      <td>0.980487</td>\n",
       "      <td>...</td>\n",
       "      <td>1.009680</td>\n",
       "      <td>1.011475</td>\n",
       "      <td>0.974642</td>\n",
       "      <td>0.995641</td>\n",
       "      <td>1.014899</td>\n",
       "      <td>1.023649</td>\n",
       "      <td>1.006976</td>\n",
       "      <td>1.013297</td>\n",
       "      <td>1.014275</td>\n",
       "      <td>1.031652</td>\n",
       "    </tr>\n",
       "    <tr>\n",
       "      <th>4</th>\n",
       "      <td>1.010165</td>\n",
       "      <td>0.993733</td>\n",
       "      <td>1.006014</td>\n",
       "      <td>0.967761</td>\n",
       "      <td>1.005284</td>\n",
       "      <td>0.959115</td>\n",
       "      <td>0.980029</td>\n",
       "      <td>1.041937</td>\n",
       "      <td>0.991726</td>\n",
       "      <td>0.991239</td>\n",
       "      <td>...</td>\n",
       "      <td>1.005334</td>\n",
       "      <td>1.024337</td>\n",
       "      <td>0.977636</td>\n",
       "      <td>0.994800</td>\n",
       "      <td>0.990119</td>\n",
       "      <td>1.020927</td>\n",
       "      <td>0.995671</td>\n",
       "      <td>1.016200</td>\n",
       "      <td>1.019885</td>\n",
       "      <td>1.027108</td>\n",
       "    </tr>\n",
       "    <tr>\n",
       "      <th>...</th>\n",
       "      <td>...</td>\n",
       "      <td>...</td>\n",
       "      <td>...</td>\n",
       "      <td>...</td>\n",
       "      <td>...</td>\n",
       "      <td>...</td>\n",
       "      <td>...</td>\n",
       "      <td>...</td>\n",
       "      <td>...</td>\n",
       "      <td>...</td>\n",
       "      <td>...</td>\n",
       "      <td>...</td>\n",
       "      <td>...</td>\n",
       "      <td>...</td>\n",
       "      <td>...</td>\n",
       "      <td>...</td>\n",
       "      <td>...</td>\n",
       "      <td>...</td>\n",
       "      <td>...</td>\n",
       "      <td>...</td>\n",
       "      <td>...</td>\n",
       "    </tr>\n",
       "    <tr>\n",
       "      <th>2516</th>\n",
       "      <td>1.040091</td>\n",
       "      <td>1.999345</td>\n",
       "      <td>4.127098</td>\n",
       "      <td>1.358646</td>\n",
       "      <td>1.424375</td>\n",
       "      <td>2.189621</td>\n",
       "      <td>4.046673</td>\n",
       "      <td>3.832836</td>\n",
       "      <td>1.833476</td>\n",
       "      <td>3.188879</td>\n",
       "      <td>...</td>\n",
       "      <td>1.086352</td>\n",
       "      <td>1.647547</td>\n",
       "      <td>5.754564</td>\n",
       "      <td>1.003464</td>\n",
       "      <td>2.210086</td>\n",
       "      <td>1.320809</td>\n",
       "      <td>3.741570</td>\n",
       "      <td>2.720513</td>\n",
       "      <td>2.328570</td>\n",
       "      <td>0.735128</td>\n",
       "    </tr>\n",
       "    <tr>\n",
       "      <th>2517</th>\n",
       "      <td>1.046427</td>\n",
       "      <td>1.965028</td>\n",
       "      <td>4.142555</td>\n",
       "      <td>1.354047</td>\n",
       "      <td>1.413815</td>\n",
       "      <td>2.182309</td>\n",
       "      <td>4.043877</td>\n",
       "      <td>3.800618</td>\n",
       "      <td>1.832701</td>\n",
       "      <td>3.188019</td>\n",
       "      <td>...</td>\n",
       "      <td>1.100125</td>\n",
       "      <td>1.660615</td>\n",
       "      <td>5.850787</td>\n",
       "      <td>1.005720</td>\n",
       "      <td>2.229127</td>\n",
       "      <td>1.327560</td>\n",
       "      <td>3.746593</td>\n",
       "      <td>2.751546</td>\n",
       "      <td>2.268831</td>\n",
       "      <td>0.747419</td>\n",
       "    </tr>\n",
       "    <tr>\n",
       "      <th>2518</th>\n",
       "      <td>1.038224</td>\n",
       "      <td>1.952439</td>\n",
       "      <td>4.114545</td>\n",
       "      <td>1.353078</td>\n",
       "      <td>1.438299</td>\n",
       "      <td>2.213540</td>\n",
       "      <td>4.055854</td>\n",
       "      <td>3.807486</td>\n",
       "      <td>1.815757</td>\n",
       "      <td>3.215234</td>\n",
       "      <td>...</td>\n",
       "      <td>1.099672</td>\n",
       "      <td>1.666051</td>\n",
       "      <td>5.911059</td>\n",
       "      <td>1.018121</td>\n",
       "      <td>2.261040</td>\n",
       "      <td>1.308682</td>\n",
       "      <td>3.670135</td>\n",
       "      <td>2.692151</td>\n",
       "      <td>2.299082</td>\n",
       "      <td>0.755689</td>\n",
       "    </tr>\n",
       "    <tr>\n",
       "      <th>2519</th>\n",
       "      <td>1.034956</td>\n",
       "      <td>1.929731</td>\n",
       "      <td>4.120822</td>\n",
       "      <td>1.347394</td>\n",
       "      <td>1.426412</td>\n",
       "      <td>2.219964</td>\n",
       "      <td>4.079185</td>\n",
       "      <td>3.743818</td>\n",
       "      <td>1.805150</td>\n",
       "      <td>3.184610</td>\n",
       "      <td>...</td>\n",
       "      <td>1.102397</td>\n",
       "      <td>1.667254</td>\n",
       "      <td>5.988258</td>\n",
       "      <td>1.028260</td>\n",
       "      <td>2.256149</td>\n",
       "      <td>1.303154</td>\n",
       "      <td>3.657037</td>\n",
       "      <td>2.680405</td>\n",
       "      <td>2.298728</td>\n",
       "      <td>0.746421</td>\n",
       "    </tr>\n",
       "    <tr>\n",
       "      <th>2520</th>\n",
       "      <td>1.040790</td>\n",
       "      <td>1.918935</td>\n",
       "      <td>4.202761</td>\n",
       "      <td>1.330092</td>\n",
       "      <td>1.418398</td>\n",
       "      <td>2.244342</td>\n",
       "      <td>4.125024</td>\n",
       "      <td>3.705089</td>\n",
       "      <td>1.847642</td>\n",
       "      <td>3.156178</td>\n",
       "      <td>...</td>\n",
       "      <td>1.109136</td>\n",
       "      <td>1.660121</td>\n",
       "      <td>6.004748</td>\n",
       "      <td>1.037958</td>\n",
       "      <td>2.286240</td>\n",
       "      <td>1.322107</td>\n",
       "      <td>3.626816</td>\n",
       "      <td>2.645579</td>\n",
       "      <td>2.310927</td>\n",
       "      <td>0.751352</td>\n",
       "    </tr>\n",
       "  </tbody>\n",
       "</table>\n",
       "<p>2521 rows × 500 columns</p>\n",
       "</div>"
      ],
      "text/plain": [
       "           0         1         2         3         4         5         6    \\\n",
       "0     1.000000  1.000000  1.000000  1.000000  1.000000  1.000000  1.000000   \n",
       "1     1.003501  0.997669  1.015938  0.983209  1.003238  0.990806  0.994129   \n",
       "2     1.021538  0.991675  1.004905  0.967761  1.013438  0.969881  0.989514   \n",
       "3     1.019791  1.001624  0.999499  0.961775  1.008890  0.959782  0.988909   \n",
       "4     1.010165  0.993733  1.006014  0.967761  1.005284  0.959115  0.980029   \n",
       "...        ...       ...       ...       ...       ...       ...       ...   \n",
       "2516  1.040091  1.999345  4.127098  1.358646  1.424375  2.189621  4.046673   \n",
       "2517  1.046427  1.965028  4.142555  1.354047  1.413815  2.182309  4.043877   \n",
       "2518  1.038224  1.952439  4.114545  1.353078  1.438299  2.213540  4.055854   \n",
       "2519  1.034956  1.929731  4.120822  1.347394  1.426412  2.219964  4.079185   \n",
       "2520  1.040790  1.918935  4.202761  1.330092  1.418398  2.244342  4.125024   \n",
       "\n",
       "           7         8         9    ...       490       491       492  \\\n",
       "0     1.000000  1.000000  1.000000  ...  1.000000  1.000000  1.000000   \n",
       "1     1.026887  0.985936  0.992874  ...  1.017591  0.995620  0.989441   \n",
       "2     1.032425  0.980986  1.000460  ...  1.016183  1.004123  0.968765   \n",
       "3     1.029437  0.982963  0.980487  ...  1.009680  1.011475  0.974642   \n",
       "4     1.041937  0.991726  0.991239  ...  1.005334  1.024337  0.977636   \n",
       "...        ...       ...       ...  ...       ...       ...       ...   \n",
       "2516  3.832836  1.833476  3.188879  ...  1.086352  1.647547  5.754564   \n",
       "2517  3.800618  1.832701  3.188019  ...  1.100125  1.660615  5.850787   \n",
       "2518  3.807486  1.815757  3.215234  ...  1.099672  1.666051  5.911059   \n",
       "2519  3.743818  1.805150  3.184610  ...  1.102397  1.667254  5.988258   \n",
       "2520  3.705089  1.847642  3.156178  ...  1.109136  1.660121  6.004748   \n",
       "\n",
       "           493       494       495       496       497       498       499  \n",
       "0     1.000000  1.000000  1.000000  1.000000  1.000000  1.000000  1.000000  \n",
       "1     0.977634  0.998507  1.008922  1.008019  1.016256  1.013419  1.007101  \n",
       "2     0.981064  1.018041  1.021143  1.012870  1.019734  1.014233  1.019563  \n",
       "3     0.995641  1.014899  1.023649  1.006976  1.013297  1.014275  1.031652  \n",
       "4     0.994800  0.990119  1.020927  0.995671  1.016200  1.019885  1.027108  \n",
       "...        ...       ...       ...       ...       ...       ...       ...  \n",
       "2516  1.003464  2.210086  1.320809  3.741570  2.720513  2.328570  0.735128  \n",
       "2517  1.005720  2.229127  1.327560  3.746593  2.751546  2.268831  0.747419  \n",
       "2518  1.018121  2.261040  1.308682  3.670135  2.692151  2.299082  0.755689  \n",
       "2519  1.028260  2.256149  1.303154  3.657037  2.680405  2.298728  0.746421  \n",
       "2520  1.037958  2.286240  1.322107  3.626816  2.645579  2.310927  0.751352  \n",
       "\n",
       "[2521 rows x 500 columns]"
      ]
     },
     "execution_count": 92,
     "metadata": {},
     "output_type": "execute_result"
    }
   ],
   "source": [
    "# Running the Monte Carlo simulation to forecast 10 years cumulative returns\n",
    "MC_ten_year.calc_cumulative_return()"
   ]
  },
  {
   "cell_type": "code",
   "execution_count": 93,
   "metadata": {},
   "outputs": [
    {
     "data": {
      "image/png": "[encoded data removed]",
      "text/plain": [
       "<Figure size 640x480 with 1 Axes>"
      ]
     },
     "metadata": {},
     "output_type": "display_data"
    }
   ],
   "source": [
    "# Visualizing the 10-year Monte Carlo simulation by creating an\n",
    "# overlay line plot\n",
    "MC_ten_simulation_line_plot = MC_ten_year.plot_simulation()"
   ]
  },
  {
   "cell_type": "code",
   "execution_count": 94,
   "metadata": {},
   "outputs": [
    {
     "data": {
      "image/png": "[encoded data removed]",
      "text/plain": [
       "<Figure size 640x480 with 1 Axes>"
      ]
     },
     "metadata": {},
     "output_type": "display_data"
    }
   ],
   "source": [
    "# Visualize the probability distribution of the 10-year Monte Carlo simulation \n",
    "# by plotting a histogram\n",
    "MC_ten_sim_dist_plot = MC_ten_year.plot_distribution()"
   ]
  },
  {
   "cell_type": "code",
   "execution_count": 95,
   "metadata": {},
   "outputs": [
    {
     "name": "stdout",
     "output_type": "stream",
     "text": [
      "count           500.000000\n",
      "mean              2.999668\n",
      "std               1.829986\n",
      "min               0.624205\n",
      "25%               1.747234\n",
      "50%               2.637163\n",
      "75%               3.750979\n",
      "max              11.884324\n",
      "95% CI Lower      0.832428\n",
      "95% CI Upper      8.313359\n",
      "Name: 2520, dtype: float64\n"
     ]
    }
   ],
   "source": [
    "# Generating summary statistics from the 10-year Monte Carlo simulation results\n",
    "# and saving the results as a variable\n",
    "MC_ten_summary_statistics = MC_ten_year.summarize_cumulative_return()\n",
    "\n",
    "# Reviewing the 10-year Monte Carlo summary statistics\n",
    "print(MC_ten_summary_statistics)"
   ]
  },
  {
   "cell_type": "markdown",
   "metadata": {},
   "source": [
    "### Answer the following questions:"
   ]
  },
  {
   "cell_type": "markdown",
   "metadata": {},
   "source": [
    "#### Question: Using the current value of only the stock and bond portion of the member's portfolio and the summary statistics that you generated from the new Monte Carlo simulation, what are the lower and upper bounds for the expected value of the portfolio (with the new weights) with a 95% confidence interval?"
   ]
  },
  {
   "cell_type": "code",
   "execution_count": 96,
   "metadata": {},
   "outputs": [
    {
     "data": {
      "text/plain": [
       "61836.2"
      ]
     },
     "execution_count": 96,
     "metadata": {},
     "output_type": "execute_result"
    }
   ],
   "source": [
    "# Printing the current balance of the stock and bond portion of the members portfolio\n",
    "total_stocks_bonds"
   ]
  },
  {
   "cell_type": "code",
   "execution_count": 97,
   "metadata": {},
   "outputs": [
    {
     "name": "stdout",
     "output_type": "stream",
     "text": [
      "There is a 95% chance that a 80% stocks and 20% bonds weight portfollio over the next 10 years will end within in the range of $51474.18 and $514066.50.\n"
     ]
    }
   ],
   "source": [
    "# Using the lower and upper `95%` confidence intervals to calculate the range of the possible outcomes for the current stock/bond portfolio\n",
    "ci_lower_ten_cumulative_return = MC_ten_summary_statistics[8]* total_stocks_bonds\n",
    "ci_upper_ten_cumulative_return = MC_ten_summary_statistics[9]* total_stocks_bonds\n",
    "\n",
    "# Printing the result of the calculations\n",
    "print(f\"There is a 95% chance that a 80% stocks and 20% bonds weight portfollio over the\"\n",
    "      f\" next 10 years will end within in the range of\"\n",
    "      f\" ${ci_lower_ten_cumulative_return:.2f} and ${ci_upper_ten_cumulative_return:.2f}.\")"
   ]
  },
  {
   "cell_type": "markdown",
   "metadata": {},
   "source": [
    "#### Question: Will weighting the portfolio more heavily to stocks allow the credit union members to retire after only 10 years?"
   ]
  },
  {
   "cell_type": "raw",
   "metadata": {},
   "source": [
    "**Answer** # It's possible that credit union members can retire but should there be an economic slow down or recession that will affect the equities market, 10 years may not be a sizable window to allow for the stock assets to recover and grow.  "
   ]
  },
  {
   "cell_type": "code",
   "execution_count": null,
   "metadata": {},
   "outputs": [],
   "source": []
  }
 ],
 "metadata": {
  "kernelspec": {
   "display_name": "dev",
   "language": "python",
   "name": "dev"
  },
  "language_info": {
   "codemirror_mode": {
    "name": "ipython",
    "version": 3
   },
   "file_extension": ".py",
   "mimetype": "text/x-python",
   "name": "python",
   "nbconvert_exporter": "python",
   "pygments_lexer": "ipython3",
   "version": "3.7.13"
  }
 },
 "nbformat": 4,
 "nbformat_minor": 4
}
